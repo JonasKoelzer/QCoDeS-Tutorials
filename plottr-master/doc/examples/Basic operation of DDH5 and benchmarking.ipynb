{
 "cells": [
  {
   "cell_type": "code",
   "execution_count": 1,
   "metadata": {
    "ExecuteTime": {
     "end_time": "2019-07-02T21:56:44.772347Z",
     "start_time": "2019-07-02T21:56:44.242727Z"
    }
   },
   "outputs": [],
   "source": [
    "import sys\n",
    "import numpy as np\n",
    "import h5py\n",
    "\n",
    "from plottr.data import datadict as dd\n",
    "from plottr.data import datadict_storage as dds"
   ]
  },
  {
   "cell_type": "code",
   "execution_count": null,
   "metadata": {},
   "outputs": [],
   "source": []
  },
  {
   "cell_type": "markdown",
   "metadata": {},
   "source": [
    "# Simple timing for writing/reading a datadict\n",
    "\n",
    "## Write"
   ]
  },
  {
   "cell_type": "code",
   "execution_count": 8,
   "metadata": {
    "ExecuteTime": {
     "end_time": "2019-07-02T21:57:46.468964Z",
     "start_time": "2019-07-02T21:57:46.464975Z"
    }
   },
   "outputs": [],
   "source": [
    "FN = './ddh5_test-1'"
   ]
  },
  {
   "cell_type": "code",
   "execution_count": 9,
   "metadata": {
    "ExecuteTime": {
     "end_time": "2019-07-02T21:57:53.110466Z",
     "start_time": "2019-07-02T21:57:47.116741Z"
    }
   },
   "outputs": [
    {
     "name": "stdout",
     "output_type": "stream",
     "text": [
      "71.7 ms ± 1.33 ms per loop (mean ± std. dev. of 7 runs, 10 loops each)\n"
     ]
    }
   ],
   "source": [
    "%%timeit\n",
    "nrows = 10000\n",
    "\n",
    "x = np.arange(nrows, dtype=np.float)\n",
    "y = np.repeat(np.linspace(0., 1., 1001).reshape(1, -1), nrows, 0)\n",
    "z = np.arange(y.size, dtype=np.float).reshape(y.shape)\n",
    "\n",
    "# print(f\"total size = {(x.nbytes + y.nbytes + z.nbytes) * 1e-6} MB\")\n",
    "\n",
    "data = dd.DataDict(\n",
    "    x=dict(values=x, unit='nA'), \n",
    "    y=dict(values=y, unit='nB'),\n",
    "    z=dict(values=z, unit='nC', axes=['x', 'y']),\n",
    ")\n",
    "if not data.validate():\n",
    "    raise ValueError\n",
    "\n",
    "dds.datadict_to_hdf5(data, FN)"
   ]
  },
  {
   "cell_type": "markdown",
   "metadata": {},
   "source": [
    "## Read back"
   ]
  },
  {
   "cell_type": "code",
   "execution_count": 10,
   "metadata": {
    "ExecuteTime": {
     "end_time": "2019-07-02T21:57:57.686654Z",
     "start_time": "2019-07-02T21:57:55.102475Z"
    }
   },
   "outputs": [
    {
     "name": "stdout",
     "output_type": "stream",
     "text": [
      "310 ms ± 11.1 ms per loop (mean ± std. dev. of 7 runs, 1 loop each)\n"
     ]
    }
   ],
   "source": [
    "%%timeit\n",
    "ret_data = dds.datadict_from_hdf5(FN)\n",
    "size = sum([ret_data.data_vals(k).nbytes for k in ['x', 'y', 'z']]) * 1e-6\n",
    "# print(f\"total size = {size} MB\")"
   ]
  },
  {
   "cell_type": "markdown",
   "metadata": {
    "ExecuteTime": {
     "end_time": "2019-07-02T19:55:32.710489Z",
     "start_time": "2019-07-02T19:55:32.706500Z"
    }
   },
   "source": [
    "## Appending row by row"
   ]
  },
  {
   "cell_type": "code",
   "execution_count": 11,
   "metadata": {
    "ExecuteTime": {
     "end_time": "2019-07-02T21:58:08.962974Z",
     "start_time": "2019-07-02T21:58:08.958987Z"
    }
   },
   "outputs": [],
   "source": [
    "FN = './ddh5_test-2'\n",
    "nrows = 100"
   ]
  },
  {
   "cell_type": "code",
   "execution_count": 12,
   "metadata": {
    "ExecuteTime": {
     "end_time": "2019-07-02T21:58:13.805079Z",
     "start_time": "2019-07-02T21:58:10.150728Z"
    }
   },
   "outputs": [
    {
     "name": "stdout",
     "output_type": "stream",
     "text": [
      "452 ms ± 52.3 ms per loop (mean ± std. dev. of 7 runs, 1 loop each)\n"
     ]
    }
   ],
   "source": [
    "%%timeit\n",
    "\n",
    "x = np.array([0.])\n",
    "y = np.linspace(0., 1., 1001).reshape(1, -1)\n",
    "z = np.arange(y.size, dtype=np.float).reshape(y.shape)\n",
    "\n",
    "data = dd.DataDict(\n",
    "    x=dict(values=x, unit='nA'), \n",
    "    y=dict(values=y, unit='nB'),\n",
    "    z=dict(values=z, unit='nC', axes=['x', 'y']),\n",
    ")\n",
    "\n",
    "dds.datadict_to_hdf5(data, FN, append_mode=dds.AppendMode.none)\n",
    "\n",
    "for n in range(nrows):\n",
    "    data = dd.DataDict(\n",
    "        x=dict(values=np.array([n+1], dtype=np.float), unit='nA'), \n",
    "        y=dict(values=y, unit='nB'),\n",
    "        z=dict(values=z, unit='nC', axes=['x', 'y']),\n",
    "    )\n",
    "    dds.datadict_to_hdf5(data, FN, append_mode=dds.AppendMode.all)"
   ]
  },
  {
   "cell_type": "markdown",
   "metadata": {},
   "source": [
    "It's important to note that the bulk of this time is just for opening the files. Below we can see that opening the HDF5 file in append mode takes us around 3 ms."
   ]
  },
  {
   "cell_type": "code",
   "execution_count": 15,
   "metadata": {
    "ExecuteTime": {
     "end_time": "2019-07-02T21:59:53.337364Z",
     "start_time": "2019-07-02T21:59:50.676328Z"
    }
   },
   "outputs": [
    {
     "name": "stdout",
     "output_type": "stream",
     "text": [
      "3.26 ms ± 163 µs per loop (mean ± std. dev. of 7 runs, 100 loops each)\n"
     ]
    }
   ],
   "source": [
    "%%timeit\n",
    "with h5py.File(FN+'.dd.h5', 'a') as f:\n",
    "    # just do something of no effect.\n",
    "    dsets = list(f['data'].keys())"
   ]
  },
  {
   "cell_type": "code",
   "execution_count": null,
   "metadata": {},
   "outputs": [],
   "source": []
  },
  {
   "cell_type": "code",
   "execution_count": null,
   "metadata": {},
   "outputs": [],
   "source": []
  },
  {
   "cell_type": "markdown",
   "metadata": {},
   "source": [
    "# Bare HDF5 benchmarking"
   ]
  },
  {
   "cell_type": "markdown",
   "metadata": {},
   "source": [
    "## appending row by row, resize every time"
   ]
  },
  {
   "cell_type": "code",
   "execution_count": 16,
   "metadata": {
    "ExecuteTime": {
     "end_time": "2019-07-02T22:00:07.067915Z",
     "start_time": "2019-07-02T22:00:03.259418Z"
    }
   },
   "outputs": [
    {
     "name": "stdout",
     "output_type": "stream",
     "text": [
      "460 ms ± 37.5 ms per loop (mean ± std. dev. of 7 runs, 1 loop each)\n"
     ]
    }
   ],
   "source": [
    "%%timeit\n",
    "\n",
    "FN = './hdf5_test.h5'\n",
    "\n",
    "nrows = 100\n",
    "\n",
    "x = np.array([0.])\n",
    "y = np.linspace(0., 1., 1001).reshape(1, -1)\n",
    "z = np.arange(y.size, dtype=np.float).reshape(y.shape)\n",
    "\n",
    "with h5py.File(FN, 'w', libver='latest') as f:   \n",
    "    grp = f.create_group('data')\n",
    "    for dn, d in ('x', x), ('y', y), ('z', z):\n",
    "        grp.create_dataset(dn, maxshape=tuple([None] + list(d.shape[1:])), data=d)\n",
    "        \n",
    "for n in range(nrows):   \n",
    "    with h5py.File(FN, 'a', libver='latest') as f:\n",
    "        grp = f['data']\n",
    "        for dn, d in ('x', x), ('y', y), ('z', z):\n",
    "            ds = grp[dn]\n",
    "            ds.resize(tuple([ds.shape[0]+1] + list(ds.shape[1:])))\n",
    "            ds[-1:] = d\n",
    "            ds.flush()\n",
    "        f.flush()"
   ]
  },
  {
   "cell_type": "code",
   "execution_count": null,
   "metadata": {},
   "outputs": [],
   "source": []
  }
 ],
 "metadata": {
  "kernelspec": {
   "display_name": "Python 3",
   "language": "python",
   "name": "python3"
  },
  "language_info": {
   "codemirror_mode": {
    "name": "ipython",
    "version": 3
   },
   "file_extension": ".py",
   "mimetype": "text/x-python",
   "name": "python",
   "nbconvert_exporter": "python",
   "pygments_lexer": "ipython3",
   "version": "3.6.7"
  },
  "toc": {
   "base_numbering": 1,
   "nav_menu": {},
   "number_sections": true,
   "sideBar": true,
   "skip_h1_title": false,
   "title_cell": "Table of Contents",
   "title_sidebar": "Contents",
   "toc_cell": false,
   "toc_position": {},
   "toc_section_display": true,
   "toc_window_display": false
  },
  "varInspector": {
   "cols": {
    "lenName": 16,
    "lenType": 16,
    "lenVar": 40
   },
   "kernels_config": {
    "python": {
     "delete_cmd_postfix": "",
     "delete_cmd_prefix": "del ",
     "library": "var_list.py",
     "varRefreshCmd": "print(var_dic_list())"
    },
    "r": {
     "delete_cmd_postfix": ") ",
     "delete_cmd_prefix": "rm(",
     "library": "var_list.r",
     "varRefreshCmd": "cat(var_dic_list()) "
    }
   },
   "types_to_exclude": [
    "module",
    "function",
    "builtin_function_or_method",
    "instance",
    "_Feature"
   ],
   "window_display": false
  }
 },
 "nbformat": 4,
 "nbformat_minor": 2
}

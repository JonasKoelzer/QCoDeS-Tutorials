{
 "cells": [
  {
   "cell_type": "markdown",
   "metadata": {
    "Collapsed": "false"
   },
   "source": [
    "# Introduction"
   ]
  },
  {
   "cell_type": "markdown",
   "metadata": {
    "Collapsed": "false"
   },
   "source": [
    "This notebook illustrates the basics of how to use `plottr` -- in particular, the `inspectr` and `autoplot` tools -- to live plot data in a qcodes database."
   ]
  },
  {
   "cell_type": "markdown",
   "metadata": {
    "Collapsed": "false"
   },
   "source": [
    "## Basic notebook setup"
   ]
  },
  {
   "cell_type": "code",
   "execution_count": null,
   "metadata": {
    "Collapsed": "false",
    "ExecuteTime": {
     "end_time": "2019-05-07T06:57:34.632640Z",
     "start_time": "2019-05-07T06:57:34.606712Z"
    }
   },
   "outputs": [],
   "source": [
    "DBPATH = './qcodes_liveplot_demo.db'\n",
    "\n",
    "import qcodes as qc\n",
    "\n",
    "qc.config.core.db_location = DBPATH\n",
    "qc.initialise_database()"
   ]
  },
  {
   "cell_type": "markdown",
   "metadata": {
    "Collapsed": "false"
   },
   "source": [
    "# Launching inspectr"
   ]
  },
  {
   "cell_type": "markdown",
   "metadata": {
    "Collapsed": "false"
   },
   "source": [
    "Next, we need to run the inspectr tool from the command line in a separate process. From within the plottr root directory, run \n",
    "\n",
    "``\n",
    "$ python apps/inspectr.py --dbpath=./doc/examples/qcodes_liveplot_demo.db\n",
    "``"
   ]
  },
  {
   "cell_type": "markdown",
   "metadata": {
    "Collapsed": "false"
   },
   "source": [
    "We should now have two windows open; no data is yet shown if we started with a fresh .db file. \n",
    "Now, before populating the database, let's enable automatic monitoring of the dataset. To do that, enter a refresh interval (given in seconds) in the inspectr window toolbar, and enable the auto-plot option."
   ]
  },
  {
   "cell_type": "markdown",
   "metadata": {
    "Collapsed": "false"
   },
   "source": [
    "# Dummy experiments"
   ]
  },
  {
   "cell_type": "markdown",
   "metadata": {
    "Collapsed": "false"
   },
   "source": [
    "Below are a few dummy qcodes experiments that should hopefully illustrate how the live plotter behaves. Run them while the inspectr is open, and monitoring is active (or not -- you can also refresh manually by pressing 'R'; this works for both inspectr and the autoplotter). "
   ]
  },
  {
   "cell_type": "markdown",
   "metadata": {
    "Collapsed": "false",
    "ExecuteTime": {
     "end_time": "2018-12-31T12:47:55.343906Z",
     "start_time": "2018-12-31T12:47:55.309855Z"
    }
   },
   "source": [
    "## Qcodes imports (and other relevant stuff)"
   ]
  },
  {
   "cell_type": "code",
   "execution_count": null,
   "metadata": {
    "Collapsed": "false",
    "ExecuteTime": {
     "end_time": "2019-05-13T12:16:36.430546Z",
     "start_time": "2019-05-13T12:16:26.671614Z"
    }
   },
   "outputs": [],
   "source": [
    "import time\n",
    "import numpy as np\n",
    "from qcodes import load_or_create_experiment, Measurement, Parameter"
   ]
  },
  {
   "cell_type": "markdown",
   "metadata": {
    "Collapsed": "false"
   },
   "source": [
    "## A very simple 1D sweep"
   ]
  },
  {
   "cell_type": "markdown",
   "metadata": {
    "Collapsed": "false"
   },
   "source": [
    "This is the most basic measurement type we can imagine: sweep one independent parameter (`x`) and record data, point-by-point, as a function of that. \n",
    "Here we have two dependents, `y` and `y2`.\n",
    "\n",
    "In plottr, you'll see a window with the the two line traces for the dependents."
   ]
  },
  {
   "cell_type": "code",
   "execution_count": null,
   "metadata": {
    "Collapsed": "false",
    "ExecuteTime": {
     "end_time": "2019-01-29T22:41:12.251621Z",
     "start_time": "2019-01-29T22:41:12.246635Z"
    }
   },
   "outputs": [],
   "source": [
    "xvals = np.linspace(0, 10, 101)\n",
    "yvals = np.sin(xvals)\n",
    "y2vals = np.cos(xvals)\n",
    "\n",
    "def simple_1d_sweep():\n",
    "    for x, y, y2 in zip(xvals, yvals, y2vals):\n",
    "        yield x, y, y2\n",
    "        \n",
    "x = Parameter('x')\n",
    "y = Parameter('y')\n",
    "y2 = Parameter('y2')\n",
    "\n",
    "station = qc.Station(x, y, y2)"
   ]
  },
  {
   "cell_type": "code",
   "execution_count": null,
   "metadata": {
    "Collapsed": "false",
    "ExecuteTime": {
     "end_time": "2019-01-29T22:42:08.163848Z",
     "start_time": "2019-01-29T22:41:13.906794Z"
    }
   },
   "outputs": [],
   "source": [
    "exp = load_or_create_experiment('very_simple_1d_sweep', sample_name='no sample')\n",
    "\n",
    "meas = Measurement(exp, station)\n",
    "meas.register_parameter(x)\n",
    "meas.register_parameter(y, setpoints=(x,))\n",
    "meas.register_parameter(y2, setpoints=(x,))\n",
    "meas.write_period = 2\n",
    "\n",
    "with meas.run() as datasaver:\n",
    "    for xval, yval, y2val in simple_1d_sweep():\n",
    "        datasaver.add_result(\n",
    "            (x, xval),\n",
    "            (y, yval),\n",
    "            (y2, y2val),\n",
    "        )\n",
    "        time.sleep(0.2)"
   ]
  },
  {
   "cell_type": "markdown",
   "metadata": {
    "Collapsed": "false"
   },
   "source": [
    "## A very simple 2D sweep"
   ]
  },
  {
   "cell_type": "markdown",
   "metadata": {
    "Collapsed": "false"
   },
   "source": [
    "In exactly the same fashion, we can also take higher-dimensional data. \n",
    "For 2D data, this means nested loops in the easiest case.\n",
    "\n",
    "We'll now see plottr slowly rastering the data as it gets saved."
   ]
  },
  {
   "cell_type": "code",
   "execution_count": null,
   "metadata": {
    "Collapsed": "false"
   },
   "outputs": [],
   "source": [
    "# set up the dummy data\n",
    "xvals = np.linspace(-5, 5, 51)\n",
    "yvals = np.linspace(-5, 5, 51)\n",
    "xx, yy = np.meshgrid(xvals, yvals, indexing='ij')\n",
    "zz = np.cos(xx) * np.cos(yy)\n",
    "\n",
    "def very_simple_2d_sweep():\n",
    "    for i, x in enumerate(xvals):\n",
    "        for j, y in enumerate(yvals):\n",
    "            yield x, y, zz[i, j]\n",
    "\n",
    "# configure the qcodes setup\n",
    "x = Parameter('x')\n",
    "y = Parameter('y')\n",
    "z = Parameter('z')\n",
    "station = qc.Station(x, y, z)\n",
    "exp = load_or_create_experiment('very_simple_2d_sweep', sample_name='no sample')\n",
    "\n",
    "# set up the measurement\n",
    "meas = Measurement(exp, station)\n",
    "meas.register_parameter(x)\n",
    "meas.register_parameter(y)\n",
    "meas.register_parameter(z, setpoints=(x, y))\n",
    "meas.write_period = 2\n",
    "\n",
    "# and start recording\n",
    "with meas.run() as datasaver:\n",
    "    for xval, yval, zval in very_simple_2d_sweep():\n",
    "        datasaver.add_result(\n",
    "            (x, xval),\n",
    "            (y, yval),\n",
    "            (z, zval),\n",
    "        )\n",
    "        time.sleep(0.2)"
   ]
  },
  {
   "cell_type": "markdown",
   "metadata": {
    "Collapsed": "false"
   },
   "source": [
    "## A simple 2D sweep, with 1D in 'hardware'"
   ]
  },
  {
   "cell_type": "markdown",
   "metadata": {
    "Collapsed": "false"
   },
   "source": [
    "Instead of sweeping point-by-point, it is also often the case that we get not single values, but whole arrays from a measurement call. \n",
    "This makes data acquisition much faster, and is handled in essentially the same way.\n",
    "The only difference in the example below is now that the 'measurement' returns arrays for `y` and `z` (e.g., the y-dependence of z could be something that is hardware-controlled in the lab), and that both have set `paramtype='array'` in the qcodes measurement and data objects."
   ]
  },
  {
   "cell_type": "code",
   "execution_count": null,
   "metadata": {
    "Collapsed": "false",
    "ExecuteTime": {
     "end_time": "2019-01-29T22:42:22.035442Z",
     "start_time": "2019-01-29T22:42:22.029458Z"
    }
   },
   "outputs": [],
   "source": [
    "# set up mock data\n",
    "xvals = np.linspace(-5, 5, 51)\n",
    "yvals = np.linspace(-5, 5, 51)\n",
    "xx, yy = np.meshgrid(xvals, yvals, indexing='ij')\n",
    "zz = np.cos(xx) * np.cos(yy)\n",
    "\n",
    "def simple_2d_sweep():\n",
    "    for i, x in enumerate(xvals):\n",
    "        yield x, yy[i, :], zz[i, :]\n",
    "\n",
    "# configure qcodes setup\n",
    "x = Parameter('x')\n",
    "y = Parameter('y')\n",
    "z = Parameter('z')\n",
    "station = qc.Station(x, y, z)\n",
    "exp = load_or_create_experiment('simple_2d_sweep', sample_name='no sample')\n",
    "\n",
    "# set up measurement\n",
    "meas = Measurement(exp, station)\n",
    "meas.register_parameter(x)\n",
    "meas.register_parameter(y, paramtype='array')\n",
    "meas.register_parameter(z, setpoints=(x, y), paramtype='array')\n",
    "meas.write_period = 2\n",
    "\n",
    "# start measuring\n",
    "with meas.run() as datasaver:\n",
    "    for xval, yval, zval in simple_2d_sweep():\n",
    "        datasaver.add_result(\n",
    "            (x, xval),\n",
    "            (y, yval),\n",
    "            (z, zval),\n",
    "        )\n",
    "        time.sleep(0.2)"
   ]
  },
  {
   "cell_type": "markdown",
   "metadata": {
    "Collapsed": "false"
   },
   "source": [
    "## Complex data"
   ]
  },
  {
   "cell_type": "markdown",
   "metadata": {
    "Collapsed": "false"
   },
   "source": [
    "Often, in particular when measuring in rf, our data is complex-valued. \n",
    "This example shows that we can plot complex data as well, and can choose between real/imaginary and magnitude/phase representation in plottr.\n",
    "The data here is mocking the noisy signal of resonator reflections (with slightly offset resonances and different line widths)."
   ]
  },
  {
   "cell_type": "code",
   "execution_count": null,
   "metadata": {
    "Collapsed": "false"
   },
   "outputs": [],
   "source": [
    "# define frequency and complex signal\n",
    "fvals = np.linspace(-5, 5, 101)\n",
    "\n",
    "# signal: three different traces with different resonances and linewidths\n",
    "svals_1 = (2j * fvals - 1.0) / (2j * fvals + 1.0)\n",
    "svals_2 = (2j * (fvals-0.5) - 2.0) / (2j * (fvals-0.5) + 2.0)\n",
    "svals_3 = (2j * (fvals+0.5) - 0.5) / (2j * (fvals+0.5) + 0.5)\n",
    "\n",
    "# set up qcodes\n",
    "frq = Parameter('detuning', unit='MHz')\n",
    "sig1 = Parameter('reflection_1')\n",
    "sig2 = Parameter('reflection_2')\n",
    "sig3 = Parameter('reflection_3')\n",
    "\n",
    "station = qc.Station(frq, sig)\n",
    "exp = load_or_create_experiment('mock_resonator_sweep', sample_name='no sample')\n",
    "\n",
    "# set up measurement\n",
    "meas = Measurement(exp, station)\n",
    "meas.register_parameter(frq, paramtype='array')\n",
    "meas.register_custom_parameter('repetition')\n",
    "meas.register_parameter(sig1, setpoints=('repetition', frq), paramtype='array')\n",
    "meas.register_parameter(sig2, setpoints=('repetition', frq), paramtype='array')\n",
    "meas.register_parameter(sig3, setpoints=('repetition', frq), paramtype='array')\n",
    "meas.write_period = 2\n",
    "\n",
    "# start measuring\n",
    "with meas.run() as datasaver:\n",
    "    for n in range(50):\n",
    "        datasaver.add_result(\n",
    "            (frq, fvals),\n",
    "            ('repetition', n),\n",
    "            (sig1, svals_1 + np.random.normal(size=fvals.size, scale=0.5) \n",
    "                + 1j*np.random.normal(size=fvals.size, scale=0.5)),\n",
    "            (sig2, svals_2 + np.random.normal(size=fvals.size, scale=0.5)\n",
    "                + 1j*np.random.normal(size=fvals.size, scale=0.5)),\n",
    "            (sig3, svals_3 + np.random.normal(size=fvals.size, scale=0.5)\n",
    "                + 1j*np.random.normal(size=fvals.size, scale=0.5)),\n",
    "        )"
   ]
  },
  {
   "cell_type": "code",
   "execution_count": null,
   "metadata": {
    "Collapsed": "false"
   },
   "outputs": [],
   "source": []
  },
  {
   "cell_type": "code",
   "execution_count": null,
   "metadata": {
    "Collapsed": "false"
   },
   "outputs": [],
   "source": []
  },
  {
   "cell_type": "code",
   "execution_count": null,
   "metadata": {
    "Collapsed": "false"
   },
   "outputs": [],
   "source": []
  },
  {
   "cell_type": "code",
   "execution_count": null,
   "metadata": {
    "Collapsed": "false"
   },
   "outputs": [],
   "source": []
  }
 ],
 "metadata": {
  "kernelspec": {
   "display_name": "Python [conda env:qcodes]",
   "language": "python",
   "name": "conda-env-qcodes-py"
  },
  "language_info": {
   "codemirror_mode": {
    "name": "ipython",
    "version": 3
   },
   "file_extension": ".py",
   "mimetype": "text/x-python",
   "name": "python",
   "nbconvert_exporter": "python",
   "pygments_lexer": "ipython3",
   "version": "3.7.5"
  },
  "toc": {
   "base_numbering": 1,
   "nav_menu": {},
   "number_sections": true,
   "sideBar": true,
   "skip_h1_title": false,
   "title_cell": "Table of Contents",
   "title_sidebar": "Contents",
   "toc_cell": false,
   "toc_position": {},
   "toc_section_display": true,
   "toc_window_display": true
  },
  "varInspector": {
   "cols": {
    "lenName": 16,
    "lenType": 16,
    "lenVar": 40
   },
   "kernels_config": {
    "python": {
     "delete_cmd_postfix": "",
     "delete_cmd_prefix": "del ",
     "library": "var_list.py",
     "varRefreshCmd": "print(var_dic_list())"
    },
    "r": {
     "delete_cmd_postfix": ") ",
     "delete_cmd_prefix": "rm(",
     "library": "var_list.r",
     "varRefreshCmd": "cat(var_dic_list()) "
    }
   },
   "types_to_exclude": [
    "module",
    "function",
    "builtin_function_or_method",
    "instance",
    "_Feature"
   ],
   "window_display": false
  }
 },
 "nbformat": 4,
 "nbformat_minor": 4
}

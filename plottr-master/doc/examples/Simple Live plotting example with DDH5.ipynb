{
 "cells": [
  {
   "cell_type": "code",
   "execution_count": null,
   "metadata": {
    "ExecuteTime": {
     "end_time": "2019-07-04T07:50:24.918740Z",
     "start_time": "2019-07-04T07:50:24.482871Z"
    }
   },
   "outputs": [],
   "source": [
    "import time\n",
    "import os\n",
    "import numpy as np\n",
    "\n",
    "from plottr.data import datadict as dd\n",
    "from plottr.data import datadict_storage as dds"
   ]
  },
  {
   "cell_type": "markdown",
   "metadata": {},
   "source": [
    "The idea is pretty simple:\n",
    "\n",
    "We first define the structure of the datadict (you can also use a datadict that is already populated); this is equivalent to the idea of registering parameters in qcodes.\n",
    "\n",
    "You can then use the DDH5 writer to start saving data -- it'll determine file location automatically, within the base directory that is the first argument.\n",
    "\n",
    "To look at the data, you can use the `autoplot_ddh5` app. The easiest way might be to copy the file `apps/templates/autoplot_ddh5.bat` to some location of your choice, and edit the pathname variable to the correct folder in which `autoplot_ddh5.py` is located, such as:\n",
    "\n",
    "``\n",
    "    @set \"APPPATH=c:\\code\\plottr\\apps\"\n",
    "``\n",
    "\n",
    "(note: this is the apps directory in the plottr base repository, not in the package). You can then associate opening `.ddh5` files with that batch file."
   ]
  },
  {
   "cell_type": "code",
   "execution_count": null,
   "metadata": {
    "ExecuteTime": {
     "end_time": "2019-07-04T07:50:35.455377Z",
     "start_time": "2019-07-04T07:50:26.221174Z"
    }
   },
   "outputs": [],
   "source": [
    "data = dd.DataDict(\n",
    "    x = dict(unit='A'),\n",
    "    y = dict(unit='B'),\n",
    "    z = dict(axes=['x', 'y']),\n",
    ")\n",
    "data.validate()\n",
    "\n",
    "nrows = 100\n",
    "\n",
    "with dds.DDH5Writer(r\"d:\\data\", data) as writer:\n",
    "    for n in range(nrows):\n",
    "        writer.add_data(x=[n], \n",
    "                        y=np.linspace(0,1,11).reshape(1,-1),\n",
    "                        z=np.random.rand(11).reshape(1,-1)\n",
    "                        )\n",
    "        time.sleep(1)"
   ]
  },
  {
   "cell_type": "code",
   "execution_count": null,
   "metadata": {},
   "outputs": [],
   "source": []
  }
 ],
 "metadata": {
  "kernelspec": {
   "display_name": "Python 3",
   "language": "python",
   "name": "python3"
  },
  "language_info": {
   "codemirror_mode": {
    "name": "ipython",
    "version": 3
   },
   "file_extension": ".py",
   "mimetype": "text/x-python",
   "name": "python",
   "nbconvert_exporter": "python",
   "pygments_lexer": "ipython3",
   "version": "3.6.7"
  },
  "toc": {
   "base_numbering": 1,
   "nav_menu": {},
   "number_sections": true,
   "sideBar": true,
   "skip_h1_title": false,
   "title_cell": "Table of Contents",
   "title_sidebar": "Contents",
   "toc_cell": false,
   "toc_position": {},
   "toc_section_display": true,
   "toc_window_display": false
  },
  "varInspector": {
   "cols": {
    "lenName": 16,
    "lenType": 16,
    "lenVar": 40
   },
   "kernels_config": {
    "python": {
     "delete_cmd_postfix": "",
     "delete_cmd_prefix": "del ",
     "library": "var_list.py",
     "varRefreshCmd": "print(var_dic_list())"
    },
    "r": {
     "delete_cmd_postfix": ") ",
     "delete_cmd_prefix": "rm(",
     "library": "var_list.r",
     "varRefreshCmd": "cat(var_dic_list()) "
    }
   },
   "types_to_exclude": [
    "module",
    "function",
    "builtin_function_or_method",
    "instance",
    "_Feature"
   ],
   "window_display": false
  }
 },
 "nbformat": 4,
 "nbformat_minor": 2
}

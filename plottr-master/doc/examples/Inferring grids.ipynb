{
 "cells": [
  {
   "cell_type": "markdown",
   "metadata": {
    "Collapsed": "false"
   },
   "source": [
    "# The problem: inferring grids"
   ]
  },
  {
   "cell_type": "markdown",
   "metadata": {
    "Collapsed": "false"
   },
   "source": [
    "When we acquire data we often do so point-by-point, or chunk-by-chunk. And in general it is not possible to know in advance what shape exactly the final data will have. For multi-dimensional data this means that we don't always know on what kind of of grid the data lies, if any. That information, however, is important for a variety of tasks we would like to perform, such as slicing our data, or plotting projections of it. And we want to do all of these already when we don't have the full data set yet, i.e., while a data acquisition is still running.\n",
    "\n",
    "Things would of course be much easier if a grid of the right shape was pre-allocated and then gradually filled. But most data saving is not done that way (like in qcodes, for example). For that reason, we look at a few ways on how to infer grids from tabular data, where data is saved row-by-row."
   ]
  },
  {
   "cell_type": "markdown",
   "metadata": {
    "Collapsed": "false"
   },
   "source": [
    "# Setting up\n",
    "\n",
    "These are the important imports and some tool. Execute this first."
   ]
  },
  {
   "cell_type": "code",
   "execution_count": 1,
   "metadata": {
    "Collapsed": "false"
   },
   "outputs": [],
   "source": [
    "%matplotlib widget"
   ]
  },
  {
   "cell_type": "code",
   "execution_count": 2,
   "metadata": {
    "Collapsed": "false"
   },
   "outputs": [],
   "source": [
    "import numpy as np\n",
    "from matplotlib import pyplot as plt\n",
    "plt.close('all')\n",
    "\n",
    "from plottr.data import datadict as dd\n",
    "from plottr.utils import num\n",
    "from plottr.utils.num import _find_switches, is_invalid\n",
    "from plottr.plot.mpl import ppcolormesh_from_meshgrid\n",
    "\n",
    "\n",
    "def plot_image(x, y, z, ax=None, title=''):\n",
    "    \"\"\"Plot a grid as image. The arrays x, y, z need to be in meshgrid form.\"\"\"\n",
    "    \n",
    "    if ax is None:\n",
    "        fig, ax = plt.subplots(1, 1)\n",
    "        fig.canvas.layout.width = '500px'\n",
    "        fig.canvas.layout.height = '500px'\n",
    "        fig.subplots_adjust(top=0.9)\n",
    "        fig.suptitle(title)\n",
    "        \n",
    "    _x = x.flatten()\n",
    "    _y = y.flatten()\n",
    "    x0, x1 = _x[~np.isnan(_x)].min(), _x[~np.isnan(_x)].max()\n",
    "    y0, y1 = _y[~np.isnan(_y)].min(), _y[~np.isnan(_y)].max()\n",
    "    extent = [x0, x1, y0, y1]\n",
    "    z2 = z.copy()\n",
    "    z2 = z2 if x[0, 0] < x[1, 0] else z2[::-1, :]\n",
    "    z2 = z2 if y[0, 0] < y[0, 1] else z2[:, ::-1]\n",
    "    ax.imshow(z2.T, origin='lower', extent=extent, aspect='auto')\n",
    "\n",
    "    \n",
    "def plot_grid2d(x, y, z, title=''):\n",
    "    \"\"\"Plot a grid as image and pcolormesh side by side. x, y, z need to be meshgrids.\"\"\"\n",
    "    \n",
    "    fig, axes = plt.subplots(1, 2, sharex='all', sharey='all')\n",
    "    ax = axes[0]\n",
    "    plot_image(x, y, z, ax=ax)\n",
    "    \n",
    "    ax = axes[1]\n",
    "    ppcolormesh_from_meshgrid(ax, x, y, z)\n",
    "    \n",
    "    fig.tight_layout()\n",
    "    fig.canvas.layout.width = '800px'\n",
    "    fig.canvas.layout.height = '400px'\n",
    "    fig.suptitle(title)\n",
    "    fig.subplots_adjust(top=0.9)\n",
    "    \n",
    "\n",
    "def add_noise(grid2d, scale='auto'):\n",
    "    if scale == 'auto':\n",
    "        scale = grid2d.std() * 0.2\n",
    "        \n",
    "    for irow, row in enumerate(grid2d):\n",
    "        for ipt, pt in enumerate(row):\n",
    "            grid2d[irow, ipt] += np.random.normal(scale=scale)\n",
    "    \n",
    "    return grid2d\n",
    "    \n",
    "\n",
    "def gridpattern(x, y, noise=False, noise_scale='auto'):\n",
    "    xx, yy = np.meshgrid(x, y, indexing='ij')\n",
    "    \n",
    "    if noise:\n",
    "        xx = add_noise(xx, scale=noise_scale)\n",
    "        yy = add_noise(yy, scale=noise_scale)\n",
    "\n",
    "    zz = np.sinc((xx**2 + yy**2)**.5)\n",
    "    for ix, _x in enumerate(x):\n",
    "        for iy, _y in enumerate(y):\n",
    "            if (ix%2 and iy%2) or (not ix%2 and not iy%2):\n",
    "                zz[ix, iy] -= -0.1\n",
    "    \n",
    "    return xx, yy, zz\n",
    "\n",
    "\n",
    "def find_and_plot_switches(**arrs):\n",
    "    fig, axes = plt.subplots(len(arrs), 1, sharex='all')\n",
    "    if len(arrs) == 1:\n",
    "        axes = [axes]\n",
    "    \n",
    "    i = 0\n",
    "    for k, a in arrs.items():\n",
    "        switches = _find_switches(a)\n",
    "        axes[i].plot(a, drawstyle='steps-mid', color='b')\n",
    "        for s in switches:\n",
    "            axes[i].axvline(s, color='r')\n",
    "        axes[i].set_ylabel(k)\n",
    "        i+=1\n",
    "    axes[-1].set_xlabel('index')\n",
    "    \n",
    "    return switches, axes"
   ]
  },
  {
   "cell_type": "markdown",
   "metadata": {
    "Collapsed": "false"
   },
   "source": [
    "# Inferring grids from sweep directions"
   ]
  },
  {
   "cell_type": "markdown",
   "metadata": {
    "Collapsed": "false"
   },
   "source": [
    "The main method we'll be using to infer the grid is to look at systematics in the coordinates (the *independents*) of the data.\n",
    "Since our main focus is to look at measurements, we look at the way the coordinates are swept or rastered -- this is by far the most common way how control parameters are changed in the lab.\n",
    "\n",
    "Very commonly, we sweep over our coordinates in nested loops, which then naturally form a grid. Coordinates then typically look something like this:"
   ]
  },
  {
   "cell_type": "code",
   "execution_count": 3,
   "metadata": {
    "Collapsed": "false"
   },
   "outputs": [
    {
     "name": "stdout",
     "output_type": "stream",
     "text": [
      "(21, 15) (21, 15) (21, 15)\n"
     ]
    },
    {
     "data": {
      "application/vnd.jupyter.widget-view+json": {
       "model_id": "f265f63d61f14e2eb5d5ede914d01853",
       "version_major": 2,
       "version_minor": 0
      },
      "text/plain": [
       "Canvas(toolbar=Toolbar(toolitems=[('Home', 'Reset original view', 'home', 'home'), ('Back', 'Back to previous …"
      ]
     },
     "metadata": {},
     "output_type": "display_data"
    }
   ],
   "source": [
    "# define two coordinate axes\n",
    "x = np.linspace(-3, 3, 21)\n",
    "y = np.linspace(-2, 2, 15)\n",
    "\n",
    "# make some fake data on a grid spanned by x and y\n",
    "# internally, we use np.meshgrid(x, y, indexing='ij'), which produces a grid \n",
    "# as if we had looped over x and y, x being the outer loop.\n",
    "xx, yy, zz = gridpattern(x, y)\n",
    "\n",
    "# print the shapes\n",
    "print(xx.shape, yy.shape, zz.shape)\n",
    "\n",
    "# plot the grid as image\n",
    "plot_image(xx, yy, zz)"
   ]
  },
  {
   "cell_type": "markdown",
   "metadata": {
    "Collapsed": "false"
   },
   "source": [
    "When setting this up, we of course know exactly the shape, and we can do all operations like slicing, plotting, etc. right away, as shown above.\n",
    "(**Note**: to visualize the grid, the data is overlayed with a checker board pattern)\n",
    "\n",
    "However, we might not have that information in the final data (or it could be that we didn't finish the sweep, and we only have parts of the grid). The only thing we can rely on in the end, is the data. And if it's stored in a tabular format, the shape information may be gone or incorrect.\n",
    "\n",
    "We will start with flattened data, like:"
   ]
  },
  {
   "cell_type": "code",
   "execution_count": 4,
   "metadata": {
    "Collapsed": "false"
   },
   "outputs": [],
   "source": [
    "x1d = xx.flatten()\n",
    "y1d = yy.flatten()\n",
    "z1d = zz.flatten()"
   ]
  },
  {
   "cell_type": "markdown",
   "metadata": {
    "Collapsed": "false"
   },
   "source": [
    "To reconstruct the grid, we can analyze the values of the coordinates that occur in the data. In general that can be tricky -- you would need to look at all occuring values and then sort the data accordingly onto the grid formed by all coordinates found.\n",
    "\n",
    "However, for the cases where grids are useful to start with, the experimenter will (hopefully!) have systematically swept over the coordinates (as we have done above, essentially).\n",
    "If the sweeps are monotonous, we can reconstruct grids simply using `np.reshape`. The only thing we need to figure out is the shape of the grid we want to make.\n",
    "\n",
    "To do that, we can simply look at the evolution of the coordinates:"
   ]
  },
  {
   "cell_type": "code",
   "execution_count": 5,
   "metadata": {
    "Collapsed": "false"
   },
   "outputs": [
    {
     "data": {
      "application/vnd.jupyter.widget-view+json": {
       "model_id": "b422f7c51bea44aab97eb672fa70e952",
       "version_major": 2,
       "version_minor": 0
      },
      "text/plain": [
       "Canvas(toolbar=Toolbar(toolitems=[('Home', 'Reset original view', 'home', 'home'), ('Back', 'Back to previous …"
      ]
     },
     "metadata": {},
     "output_type": "display_data"
    },
    {
     "data": {
      "text/plain": [
       "(array([ 14,  29,  44,  59,  74,  89, 104, 119, 134, 149, 164, 179, 194,\n",
       "        209, 224, 239, 254, 269, 284, 299]),\n",
       " array([<matplotlib.axes._subplots.AxesSubplot object at 0x7f3b02bb6e10>,\n",
       "        <matplotlib.axes._subplots.AxesSubplot object at 0x7f3b02bb6bd0>],\n",
       "       dtype=object))"
      ]
     },
     "execution_count": 5,
     "metadata": {},
     "output_type": "execute_result"
    }
   ],
   "source": [
    "find_and_plot_switches(x=x1d, y=y1d)"
   ]
  },
  {
   "cell_type": "markdown",
   "metadata": {
    "Collapsed": "false"
   },
   "source": [
    "When we assume that sweep direction is monotonous, then we can simply count the number switches in direction (the period) to figure out how often an axis dimension is swept. The suspected switches are marked in red in the plot above.\n",
    "\n",
    "From these periods it is then easy to get the shape: Here we see that `y` is repeated 21 times -- that means 21 is the number of `x` values on the grid, and the total size divided by 21 is the number of `y` values.\n",
    "\n",
    "This basic principle is in a function that guesses the grid shape -- `plottr.utils.num.guess_grid_from_sweep_direction` --, which is automatically used in `plottr.data.datadict.datadict_to_meshgrid`."
   ]
  },
  {
   "cell_type": "code",
   "execution_count": 6,
   "metadata": {
    "Collapsed": "false"
   },
   "outputs": [
    {
     "name": "stdout",
     "output_type": "stream",
     "text": [
      "['x', 'y'] (21, 15)\n"
     ]
    }
   ],
   "source": [
    "order, shape = num.guess_grid_from_sweep_direction(x=x1d, y=y1d)\n",
    "print(order, shape)"
   ]
  },
  {
   "cell_type": "code",
   "execution_count": 7,
   "metadata": {
    "Collapsed": "false"
   },
   "outputs": [
    {
     "data": {
      "application/vnd.jupyter.widget-view+json": {
       "model_id": "2a1ec645c48641ea9235e8f14fcdb1b2",
       "version_major": 2,
       "version_minor": 0
      },
      "text/plain": [
       "Canvas(toolbar=Toolbar(toolitems=[('Home', 'Reset original view', 'home', 'home'), ('Back', 'Back to previous …"
      ]
     },
     "metadata": {},
     "output_type": "display_data"
    }
   ],
   "source": [
    "plot_image(x1d.reshape(shape), y1d.reshape(shape), z1d.reshape(shape))"
   ]
  },
  {
   "cell_type": "markdown",
   "metadata": {
    "Collapsed": "false"
   },
   "source": [
    "It's important to note that order of course matters. Consider this example:"
   ]
  },
  {
   "cell_type": "code",
   "execution_count": 8,
   "metadata": {
    "Collapsed": "false"
   },
   "outputs": [
    {
     "name": "stdout",
     "output_type": "stream",
     "text": [
      "['not_really_y', 'not_really_x'] (21, 15)\n"
     ]
    }
   ],
   "source": [
    "order, shape = num.guess_grid_from_sweep_direction(not_really_x=y1d, not_really_y=x1d)\n",
    "print(order, shape)"
   ]
  },
  {
   "cell_type": "markdown",
   "metadata": {
    "Collapsed": "false"
   },
   "source": [
    "The function that determines the grid shape gives us the correct answer -- but now the roles of x and y are swapped, because `not_really_y` is now the outer loop. This is important to keep in mind when doing things programatically."
   ]
  },
  {
   "cell_type": "markdown",
   "metadata": {
    "Collapsed": "false"
   },
   "source": [
    "# Irregular grids"
   ]
  },
  {
   "cell_type": "markdown",
   "metadata": {
    "Collapsed": "false"
   },
   "source": [
    "You might have wondered why were looking at sweep patterns rather than unique values, which might be easier to analyze.\n",
    "The reason is that it's entirely possible to have a well-defined grid even when the coordinates in each row/column are not repeating exactly."
   ]
  },
  {
   "cell_type": "markdown",
   "metadata": {
    "Collapsed": "false"
   },
   "source": [
    "## Noise\n",
    "\n",
    "One example is when the coordinate itself is subject to noise or other variations:"
   ]
  },
  {
   "cell_type": "code",
   "execution_count": 9,
   "metadata": {
    "Collapsed": "false"
   },
   "outputs": [
    {
     "data": {
      "application/vnd.jupyter.widget-view+json": {
       "model_id": "360776dd48ba41809f80cb2c637fe0c5",
       "version_major": 2,
       "version_minor": 0
      },
      "text/plain": [
       "Canvas(toolbar=Toolbar(toolitems=[('Home', 'Reset original view', 'home', 'home'), ('Back', 'Back to previous …"
      ]
     },
     "metadata": {},
     "output_type": "display_data"
    },
    {
     "data": {
      "text/plain": [
       "(array([ 8, 17, 26, 35]),\n",
       " array([<matplotlib.axes._subplots.AxesSubplot object at 0x7f3b02a69d10>,\n",
       "        <matplotlib.axes._subplots.AxesSubplot object at 0x7f3b02b09690>],\n",
       "       dtype=object))"
      ]
     },
     "execution_count": 9,
     "metadata": {},
     "output_type": "execute_result"
    }
   ],
   "source": [
    "x = np.linspace(0, 2, 5)\n",
    "y = np.linspace(-2, 2, 9)\n",
    "\n",
    "# steps are 0.5 on each coordinate -- add some noise on a scale that's somewhat smaller\n",
    "xx, yy, zz = gridpattern(x, y, noise=True, noise_scale=0.2)\n",
    "\n",
    "# the data we'll get in practice is flattened again\n",
    "x1d = xx.flatten()\n",
    "y1d = yy.flatten()\n",
    "z1d = zz.flatten()\n",
    "\n",
    "# plot coordinatates\n",
    "find_and_plot_switches(x=x1d, y=y1d)"
   ]
  },
  {
   "cell_type": "markdown",
   "metadata": {
    "Collapsed": "false"
   },
   "source": [
    "It's obvious that this data would be hard to sort back onto a grid by looking at actual values. But because the noise is less than the (intentional) variation between the coordinates, we can still infer the grid shape by identifying large switches:"
   ]
  },
  {
   "cell_type": "code",
   "execution_count": 10,
   "metadata": {
    "Collapsed": "false"
   },
   "outputs": [
    {
     "name": "stdout",
     "output_type": "stream",
     "text": [
      "['x', 'y'] (5, 9)\n"
     ]
    },
    {
     "data": {
      "application/vnd.jupyter.widget-view+json": {
       "model_id": "4660a4e8af22400ca253a4cba801f612",
       "version_major": 2,
       "version_minor": 0
      },
      "text/plain": [
       "Canvas(toolbar=Toolbar(toolitems=[('Home', 'Reset original view', 'home', 'home'), ('Back', 'Back to previous …"
      ]
     },
     "metadata": {},
     "output_type": "display_data"
    }
   ],
   "source": [
    "order, shape = num.guess_grid_from_sweep_direction(x=x1d, y=y1d)\n",
    "print(order, shape)\n",
    "\n",
    "plot_grid2d(x1d.reshape(shape), y1d.reshape(shape), z1d.reshape(shape))"
   ]
  },
  {
   "cell_type": "markdown",
   "metadata": {
    "Collapsed": "false"
   },
   "source": [
    "The left plot shows the grid plotted as image, whereas a the right is showing a more accurate representation where the coordinates are moved by the added noise."
   ]
  },
  {
   "cell_type": "markdown",
   "metadata": {
    "Collapsed": "false"
   },
   "source": [
    "## Adaptive measurements\n",
    "\n",
    "Another example where irregular grids can occur is an adaptive sweep, where the coordinates in one dimension depend on the values of another. \n",
    "A simple, artificial example, we again look at an image of the grid and also the 'real' representation."
   ]
  },
  {
   "cell_type": "code",
   "execution_count": 11,
   "metadata": {
    "Collapsed": "false"
   },
   "outputs": [
    {
     "data": {
      "application/vnd.jupyter.widget-view+json": {
       "model_id": "c92b5e3000484d8fb8d6a69b9c1e0b90",
       "version_major": 2,
       "version_minor": 0
      },
      "text/plain": [
       "Canvas(toolbar=Toolbar(toolitems=[('Home', 'Reset original view', 'home', 'home'), ('Back', 'Back to previous …"
      ]
     },
     "metadata": {},
     "output_type": "display_data"
    }
   ],
   "source": [
    "x = np.linspace(-2, 2, 11)\n",
    "y = np.linspace(-1, 1, 11)\n",
    "xx, yy = np.meshgrid(x, y, indexing='ij')\n",
    "\n",
    "# we're stretching the grid a bit, depending on the value of x\n",
    "for i in range(y.size):\n",
    "    yy[i,:] *= (2 * np.exp(-x[i]**2/2.))\n",
    "\n",
    "# mock data: a gaussian peak in 2D\n",
    "zz = np.exp(-xx**2 - yy**2)\n",
    "\n",
    "plot_grid2d(xx, yy, zz)"
   ]
  },
  {
   "cell_type": "markdown",
   "metadata": {
    "Collapsed": "false"
   },
   "source": [
    "But of course, looking at switches still works. \n",
    "\n",
    "**Note:** When the distortion gets very bad, then it can become difficult to detect switches (when the magnitude of a switch is not much larger than the variations in the coordinate sweep). Then our method can fail."
   ]
  },
  {
   "cell_type": "code",
   "execution_count": 12,
   "metadata": {
    "Collapsed": "false"
   },
   "outputs": [
    {
     "data": {
      "application/vnd.jupyter.widget-view+json": {
       "model_id": "80d52793a21d4ffbbcd999443670c210",
       "version_major": 2,
       "version_minor": 0
      },
      "text/plain": [
       "Canvas(toolbar=Toolbar(toolitems=[('Home', 'Reset original view', 'home', 'home'), ('Back', 'Back to previous …"
      ]
     },
     "metadata": {},
     "output_type": "display_data"
    },
    {
     "data": {
      "text/plain": [
       "(array([ 10,  21,  32,  43,  54,  65,  76,  87,  98, 109]),\n",
       " array([<matplotlib.axes._subplots.AxesSubplot object at 0x7f3b0288f110>,\n",
       "        <matplotlib.axes._subplots.AxesSubplot object at 0x7f3b028422d0>],\n",
       "       dtype=object))"
      ]
     },
     "execution_count": 12,
     "metadata": {},
     "output_type": "execute_result"
    }
   ],
   "source": [
    "x1d = xx.flatten()\n",
    "y1d = yy.flatten()\n",
    "z1d = zz.flatten()\n",
    "find_and_plot_switches(x=x1d, y=y1d)"
   ]
  },
  {
   "cell_type": "code",
   "execution_count": 13,
   "metadata": {
    "Collapsed": "false"
   },
   "outputs": [
    {
     "name": "stdout",
     "output_type": "stream",
     "text": [
      "['x', 'y'] (11, 11)\n"
     ]
    },
    {
     "data": {
      "application/vnd.jupyter.widget-view+json": {
       "model_id": "655538921d654e6c80488b7f80ec3166",
       "version_major": 2,
       "version_minor": 0
      },
      "text/plain": [
       "Canvas(toolbar=Toolbar(toolitems=[('Home', 'Reset original view', 'home', 'home'), ('Back', 'Back to previous …"
      ]
     },
     "metadata": {},
     "output_type": "display_data"
    }
   ],
   "source": [
    "order, shape = num.guess_grid_from_sweep_direction(x=x1d, y=y1d)\n",
    "print(order, shape)\n",
    "\n",
    "plot_grid2d(x1d.reshape(shape), y1d.reshape(shape), z1d.reshape(shape))"
   ]
  },
  {
   "cell_type": "markdown",
   "metadata": {
    "Collapsed": "false"
   },
   "source": [
    "# Incomplete data"
   ]
  },
  {
   "cell_type": "markdown",
   "metadata": {
    "Collapsed": "false"
   },
   "source": [
    "An important task is gridding of data where the target grid hasn't been fully filled.\n",
    "This arises, for example, when a measurement is still ongoing, or has been aborted before finishing.\n",
    "Then, the size of the data is generally not readily suited for reshaping.\n",
    "\n",
    "In this case we have implemented functionality to 'pad' the data such that a grid is possible again. \n",
    "To do that we find the smallest possible grid that encloses the data, fill the data with NaN, and then reshape.\n",
    "To make our life a bit easier, we use the DataDict format which has tools for this."
   ]
  },
  {
   "cell_type": "code",
   "execution_count": 14,
   "metadata": {
    "Collapsed": "false"
   },
   "outputs": [
    {
     "name": "stdout",
     "output_type": "stream",
     "text": [
      "Full shapes: (21, 15) (21, 15) (21, 15)\n",
      "Grid shape of the incomplete data: (15, 15)\n",
      "DataDict shape: (15, 15)\n"
     ]
    },
    {
     "data": {
      "application/vnd.jupyter.widget-view+json": {
       "model_id": "cc55bf52a829458aabb5f23d569d483d",
       "version_major": 2,
       "version_minor": 0
      },
      "text/plain": [
       "Canvas(toolbar=Toolbar(toolitems=[('Home', 'Reset original view', 'home', 'home'), ('Back', 'Back to previous …"
      ]
     },
     "metadata": {},
     "output_type": "display_data"
    }
   ],
   "source": [
    "# define two coordinate axes\n",
    "x = np.linspace(-3, 3, 21)\n",
    "y = np.linspace(-2, 2, 15)\n",
    "\n",
    "# make some fake data on a grid spanned by x and y\n",
    "xx, yy, zz = gridpattern(x, y)\n",
    "\n",
    "# print the full shapes\n",
    "print(\"Full shapes:\", xx.shape, yy.shape, zz.shape)\n",
    "\n",
    "# now make flattened data where some entries are missing at the end\n",
    "nmissing = 100\n",
    "x1d = xx.flatten()[:-nmissing]\n",
    "y1d = yy.flatten()[:-nmissing]\n",
    "z1d = zz.flatten()[:-nmissing]\n",
    "\n",
    "# note: we can still find the grid!\n",
    "order, shape = num.guess_grid_from_sweep_direction(x=x1d, y=y1d)\n",
    "print(\"Grid shape of the incomplete data:\", shape)\n",
    "\n",
    "# reconstruct the correct grid\n",
    "# to do so we use the datadict format and its convenience tools:\n",
    "data1d = dd.DataDict(\n",
    "    x = dict(values=x1d),\n",
    "    y = dict(values=y1d),\n",
    "    z = dict(values=z1d, axes=['x', 'y'])\n",
    ")\n",
    "\n",
    "# guessing the grid, padding, and reshaping is all automatic here\n",
    "data2d = dd.datadict_to_meshgrid(data1d)\n",
    "print(\"DataDict shape:\", data2d.shape())\n",
    "\n",
    "# plot the grid\n",
    "plot_image(data2d.data_vals('x'), data2d.data_vals('y'), data2d.data_vals('z'))"
   ]
  },
  {
   "cell_type": "code",
   "execution_count": null,
   "metadata": {
    "Collapsed": "false"
   },
   "outputs": [],
   "source": []
  }
 ],
 "metadata": {
  "kernelspec": {
   "display_name": "Python [conda env:qcodes]",
   "language": "python",
   "name": "conda-env-qcodes-py"
  },
  "language_info": {
   "codemirror_mode": {
    "name": "ipython",
    "version": 3
   },
   "file_extension": ".py",
   "mimetype": "text/x-python",
   "name": "python",
   "nbconvert_exporter": "python",
   "pygments_lexer": "ipython3",
   "version": "3.7.5"
  }
 },
 "nbformat": 4,
 "nbformat_minor": 4
}

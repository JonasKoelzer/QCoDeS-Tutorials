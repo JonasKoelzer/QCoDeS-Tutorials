{
 "cells": [
  {
   "cell_type": "markdown",
   "metadata": {},
   "source": [
    "# Plottr Tool"
   ]
  },
  {
   "cell_type": "markdown",
   "metadata": {},
   "source": [
    "The Plottr tool is kind of an extension to QCoDeS which is being used in order to plot data from the database. It is usefull for database navigation and we use it also in order to plot data from a computer which is not necessaryly the computer that runs the measurements. This goes by storing the dtabse on a shared network drive and then accessing it via plottr with another computer. This tutorial is ment to give an overview over the function functions we find useful in the tool such as a guid how to install it."
   ]
  },
  {
   "cell_type": "markdown",
   "metadata": {},
   "source": [
    "## Install"
   ]
  },
  {
   "cell_type": "markdown",
   "metadata": {},
   "source": [
    "First we have to download and install the tool. Since it is part of the open source universe, you can find it on github (https://github.com/data-plottr/plottr), the repository also includes all the official documentation and a detailes instruction on how to install it.\n",
    "\n",
    "In order to rap it up quickly here is what you have to do: \n",
    "1. Download the repository ZIP (upper right corner) and save it in the desired location\n",
    "2. Navigate in Terminal to the path where you saved the repository (directory above the repository)\n",
    "3. Start your virtual envirvonment (if you use one for QCoDeS) and install the software via pip py using ```pip install -e plottr-master``` "
   ]
  },
  {
   "cell_type": "markdown",
   "metadata": {},
   "source": [
    "After a successfull install, you can run the tool e.g. by ```python apps/inspectr.py --dbpath ./../experiments.db``` (you may have to adjust the path to your db location)"
   ]
  },
  {
   "cell_type": "markdown",
   "metadata": {},
   "source": [
    "## Function overview"
   ]
  },
  {
   "cell_type": "markdown",
   "metadata": {},
   "source": [
    "Plotter sorts the datasets by the aquisition date. Here is a breif look at the data contained and some screenshots:"
   ]
  },
  {
   "cell_type": "markdown",
   "metadata": {},
   "source": [
    "## Sources"
   ]
  },
  {
   "cell_type": "markdown",
   "metadata": {},
   "source": [
    "This is based on the plottr github repository: https://github.com/data-plottr/plottr"
   ]
  },
  {
   "cell_type": "markdown",
   "metadata": {},
   "source": [
    "# QCoDeS Monitor"
   ]
  },
  {
   "cell_type": "markdown",
   "metadata": {},
   "source": [
    "This is an integrated graphical user interface (GUI) in QCoDeS, which is ideal for displaying the status of the experiment, one could e.g. use it in order to monitor the temperature of a cryostat. This is qctivated by using ``` python -m qcodes.monitor.monitor ``` in the terminal. This would open an emtpy ,momitor so as long as not configureated differently the monitor will only display \"Status:Waiting\" in the browser.\n",
    "\n",
    "In order for it to display something an experiment we have to define the monitor. First we set up an experiment:"
   ]
  },
  {
   "cell_type": "code",
   "execution_count": 1,
   "metadata": {},
   "outputs": [],
   "source": [
    "import qcodes as qc\n",
    "\n",
    "from qcodes.tests.instrument_mocks import DummyInstrument\n",
    "from qcodes.instrument.parameter import Parameter\n",
    "from qcodes.instrument.specialized_parameters import ElapsedTimeParameter\n",
    "from qcodes.loops import Loop\n",
    "\n",
    "src1 = DummyInstrument(name='src1', gates=['v1', 'v2'])\n",
    "src2 = DummyInstrument(name='src2', gates=['v3', 'v4'])\n",
    "\n",
    "t = ElapsedTimeParameter('t')\n",
    "V_appl_1 = Parameter('V', label='V_appl_1', unit='V', get_cmd=src1.v1.get, set_cmd=src1.v1.set)\n",
    "V_appl_2 = Parameter('V', label='V_appl_2', unit='V', get_cmd=src2.v3.get, set_cmd=src2.v3.set)\n",
    "I_meas = Parameter('I', label='I_meas', unit='A', get_cmd=lambda: float((src1.v1()+src2.v3())/1000))\n",
    "\n",
    "t.reset_clock()\n",
    "loop = Loop(V_appl_1.sweep(-1,1,0.01), delay = 0.01).loop(V_appl_2.sweep(-1,1,0.01), delay = 0.01).each(V_appl_1,V_appl_2,I_meas,t)"
   ]
  },
  {
   "cell_type": "markdown",
   "metadata": {},
   "source": [
    "Then we define our monitor:"
   ]
  },
  {
   "cell_type": "code",
   "execution_count": 2,
   "metadata": {},
   "outputs": [],
   "source": [
    "from qcodes.monitor.monitor import Monitor\n",
    "\n",
    "monitor = qc.Monitor(V_appl_1,V_appl_2,I_meas,t)"
   ]
  },
  {
   "cell_type": "markdown",
   "metadata": {},
   "source": [
    "And finally we start the experiment so we can see if something changes on our monitor:"
   ]
  },
  {
   "cell_type": "code",
   "execution_count": 3,
   "metadata": {},
   "outputs": [
    {
     "name": "stdout",
     "output_type": "stream",
     "text": [
      "Started at 2020-06-23 14:58:25\n"
     ]
    },
    {
     "name": "stderr",
     "output_type": "stream",
     "text": [
      "  File \"/Users/jonaskolzer/anaconda/envs/qcodes/lib/python3.7/runpy.py\", line 193, in _run_module_as_main\n",
      "    \"__main__\", mod_spec)\n",
      "  File \"/Users/jonaskolzer/anaconda/envs/qcodes/lib/python3.7/runpy.py\", line 85, in _run_code\n",
      "    exec(code, run_globals)\n",
      "  File \"/Users/jonaskolzer/anaconda/envs/qcodes/lib/python3.7/site-packages/ipykernel_launcher.py\", line 16, in <module>\n",
      "    app.launch_new_instance()\n",
      "  File \"/Users/jonaskolzer/anaconda/envs/qcodes/lib/python3.7/site-packages/traitlets/config/application.py\", line 664, in launch_instance\n",
      "    app.start()\n",
      "  File \"/Users/jonaskolzer/anaconda/envs/qcodes/lib/python3.7/site-packages/ipykernel/kernelapp.py\", line 583, in start\n",
      "    self.io_loop.start()\n",
      "  File \"/Users/jonaskolzer/anaconda/envs/qcodes/lib/python3.7/site-packages/tornado/platform/asyncio.py\", line 149, in start\n",
      "    self.asyncio_loop.run_forever()\n",
      "  File \"/Users/jonaskolzer/anaconda/envs/qcodes/lib/python3.7/asyncio/base_events.py\", line 541, in run_forever\n",
      "    self._run_once()\n",
      "  File \"/Users/jonaskolzer/anaconda/envs/qcodes/lib/python3.7/asyncio/base_events.py\", line 1786, in _run_once\n",
      "    handle._run()\n",
      "  File \"/Users/jonaskolzer/anaconda/envs/qcodes/lib/python3.7/asyncio/events.py\", line 88, in _run\n",
      "    self._context.run(self._callback, *self._args)\n",
      "  File \"/Users/jonaskolzer/anaconda/envs/qcodes/lib/python3.7/site-packages/tornado/ioloop.py\", line 690, in <lambda>\n",
      "    lambda f: self._run_callback(functools.partial(callback, future))\n",
      "  File \"/Users/jonaskolzer/anaconda/envs/qcodes/lib/python3.7/site-packages/tornado/ioloop.py\", line 743, in _run_callback\n",
      "    ret = callback()\n",
      "  File \"/Users/jonaskolzer/anaconda/envs/qcodes/lib/python3.7/site-packages/tornado/gen.py\", line 787, in inner\n",
      "    self.run()\n",
      "  File \"/Users/jonaskolzer/anaconda/envs/qcodes/lib/python3.7/site-packages/tornado/gen.py\", line 748, in run\n",
      "    yielded = self.gen.send(value)\n",
      "  File \"/Users/jonaskolzer/anaconda/envs/qcodes/lib/python3.7/site-packages/ipykernel/kernelbase.py\", line 365, in process_one\n",
      "    yield gen.maybe_future(dispatch(*args))\n",
      "  File \"/Users/jonaskolzer/anaconda/envs/qcodes/lib/python3.7/site-packages/tornado/gen.py\", line 209, in wrapper\n",
      "    yielded = next(result)\n",
      "  File \"/Users/jonaskolzer/anaconda/envs/qcodes/lib/python3.7/site-packages/ipykernel/kernelbase.py\", line 268, in dispatch_shell\n",
      "    yield gen.maybe_future(handler(stream, idents, msg))\n",
      "  File \"/Users/jonaskolzer/anaconda/envs/qcodes/lib/python3.7/site-packages/tornado/gen.py\", line 209, in wrapper\n",
      "    yielded = next(result)\n",
      "  File \"/Users/jonaskolzer/anaconda/envs/qcodes/lib/python3.7/site-packages/ipykernel/kernelbase.py\", line 545, in execute_request\n",
      "    user_expressions, allow_stdin,\n",
      "  File \"/Users/jonaskolzer/anaconda/envs/qcodes/lib/python3.7/site-packages/tornado/gen.py\", line 209, in wrapper\n",
      "    yielded = next(result)\n",
      "  File \"/Users/jonaskolzer/anaconda/envs/qcodes/lib/python3.7/site-packages/ipykernel/ipkernel.py\", line 300, in do_execute\n",
      "    res = shell.run_cell(code, store_history=store_history, silent=silent)\n",
      "  File \"/Users/jonaskolzer/anaconda/envs/qcodes/lib/python3.7/site-packages/ipykernel/zmqshell.py\", line 536, in run_cell\n",
      "    return super(ZMQInteractiveShell, self).run_cell(*args, **kwargs)\n",
      "  File \"/Users/jonaskolzer/anaconda/envs/qcodes/lib/python3.7/site-packages/IPython/core/interactiveshell.py\", line 2858, in run_cell\n",
      "    raw_cell, store_history, silent, shell_futures)\n",
      "  File \"/Users/jonaskolzer/anaconda/envs/qcodes/lib/python3.7/site-packages/IPython/core/interactiveshell.py\", line 2886, in _run_cell\n",
      "    return runner(coro)\n",
      "  File \"/Users/jonaskolzer/anaconda/envs/qcodes/lib/python3.7/site-packages/IPython/core/async_helpers.py\", line 68, in _pseudo_sync_runner\n",
      "    coro.send(None)\n",
      "  File \"/Users/jonaskolzer/anaconda/envs/qcodes/lib/python3.7/site-packages/IPython/core/interactiveshell.py\", line 3063, in run_cell_async\n",
      "    interactivity=interactivity, compiler=compiler, result=result)\n",
      "  File \"/Users/jonaskolzer/anaconda/envs/qcodes/lib/python3.7/site-packages/IPython/core/interactiveshell.py\", line 3254, in run_ast_nodes\n",
      "    if (await self.run_code(code, result,  async_=asy)):\n",
      "  File \"/Users/jonaskolzer/anaconda/envs/qcodes/lib/python3.7/site-packages/IPython/core/interactiveshell.py\", line 3331, in run_code\n",
      "    exec(code_obj, self.user_global_ns, self.user_ns)\n",
      "  File \"<ipython-input-3-aaf2e02adb8e>\", line 7, in <module>\n",
      "    _ = loop.with_bg_task(plot.update).run()\n",
      "  File \"/Users/jonaskolzer/anaconda/envs/qcodes/lib/python3.7/site-packages/qcodes/loops.py\", line 747, in run\n",
      "    self._run_wrapper()\n",
      "  File \"/Users/jonaskolzer/anaconda/envs/qcodes/lib/python3.7/site-packages/qcodes/loops.py\", line 796, in _run_wrapper\n",
      "    self._run_loop(*args, **kwargs)\n",
      "  File \"/Users/jonaskolzer/anaconda/envs/qcodes/lib/python3.7/site-packages/qcodes/loops.py\", line 906, in _run_loop\n",
      "    self.bg_task()\n",
      "  File \"/Users/jonaskolzer/anaconda/envs/qcodes/lib/python3.7/site-packages/qcodes/plots/base.py\", line 280, in update\n",
      "    self.update_plot()\n",
      "  File \"/Users/jonaskolzer/anaconda/envs/qcodes/lib/python3.7/site-packages/qcodes/plots/pyqtgraph.py\", line 467, in update_plot\n",
      "    self._update_image(plot_object, config)\n",
      "  File \"/Users/jonaskolzer/anaconda/envs/qcodes/lib/python3.7/site-packages/qcodes/plots/pyqtgraph.py\", line 289, in _update_image\n",
      "    hist.setLevels(*z_range)\n",
      "  File \"/Users/jonaskolzer/anaconda/envs/qcodes/lib/python3.7/site-packages/pyqtgraph/multiprocess/remoteproxy.py\", line 897, in __getattr__\n",
      "    return self._handler.getObjAttr(self, attr, **opts)\n",
      "  File \"/Users/jonaskolzer/anaconda/envs/qcodes/lib/python3.7/site-packages/pyqtgraph/multiprocess/remoteproxy.py\", line 532, in getObjAttr\n",
      "    return self.send(request='getObjAttr', opts=dict(obj=obj, attr=attr), **kwds)\n",
      "  File \"/Users/jonaskolzer/anaconda/envs/qcodes/lib/python3.7/site-packages/pyqtgraph/multiprocess/remoteproxy.py\", line 470, in send\n",
      "    return req.result()\n",
      "  File \"/Users/jonaskolzer/anaconda/envs/qcodes/lib/python3.7/site-packages/pyqtgraph/multiprocess/remoteproxy.py\", line 643, in result\n",
      "    traceback.print_stack()\n",
      "Failed to execute bg task\n",
      "Traceback (most recent call last):\n",
      "  File \"/Users/jonaskolzer/anaconda/envs/qcodes/lib/python3.7/site-packages/qcodes/loops.py\", line 906, in _run_loop\n",
      "    self.bg_task()\n",
      "  File \"/Users/jonaskolzer/anaconda/envs/qcodes/lib/python3.7/site-packages/qcodes/plots/base.py\", line 280, in update\n",
      "    self.update_plot()\n",
      "  File \"/Users/jonaskolzer/anaconda/envs/qcodes/lib/python3.7/site-packages/qcodes/plots/pyqtgraph.py\", line 467, in update_plot\n",
      "    self._update_image(plot_object, config)\n",
      "  File \"/Users/jonaskolzer/anaconda/envs/qcodes/lib/python3.7/site-packages/qcodes/plots/pyqtgraph.py\", line 289, in _update_image\n",
      "    hist.setLevels(*z_range)\n",
      "TypeError: 'Request' object is not callable\n"
     ]
    },
    {
     "name": "stdout",
     "output_type": "stream",
     "text": [
      "Request timed out: ('getObjAttr', 735, 0, b'\\x80\\x03}q\\x00(X\\x03\\x00\\x00\\x00objq\\x01cpyqtgraph.multiprocess.remoteproxy\\nunpickleObjectProxy\\nq\\x02(J\\x16\\x0f\\x01\\x00K\\x12XQ\\x00\\x00\\x00<pyqtgraph.graphicsItems.HistogramLUTItem.HistogramLUTItem object at 0x125c05730>q\\x03)tq\\x04Rq\\x05X\\x04\\x00\\x00\\x00attrq\\x06X\\t\\x00\\x00\\x00setLevelsq\\x07X\\n\\x00\\x00\\x00returnTypeq\\x08X\\x04\\x00\\x00\\x00autoq\\tu.')\n",
      "DataSet:\n",
      "   location = 'data/2020-06-23/#003_sweep_14-58-23'\n",
      "   <Type>   | <array_id> | <array.name> | <array.shape>\n",
      "   Setpoint | V_set      | V            | (201,)\n",
      "   Setpoint | V_set_0    | V            | (201, 201)\n",
      "   Measured | V_0        | V            | (201, 201)\n",
      "   Measured | V_1        | V            | (201, 201)\n",
      "   Measured | I          | I            | (201, 201)\n",
      "   Measured | t          | t            | (201, 201)\n",
      "Finished at 2020-06-23 15:12:02\n"
     ]
    }
   ],
   "source": [
    "%matplotlib inline\n",
    "from qcodes.plots.pyqtgraph import QtPlot\n",
    "\n",
    "data = loop.get_data_set(name='sweep')\n",
    "plot = QtPlot()\n",
    "plot.add(data.I)\n",
    "_ = loop.with_bg_task(plot.update).run()\n"
   ]
  },
  {
   "cell_type": "code",
   "execution_count": null,
   "metadata": {},
   "outputs": [],
   "source": []
  }
 ],
 "metadata": {
  "kernelspec": {
   "display_name": "Python 3",
   "language": "python",
   "name": "python3"
  },
  "language_info": {
   "codemirror_mode": {
    "name": "ipython",
    "version": 3
   },
   "file_extension": ".py",
   "mimetype": "text/x-python",
   "name": "python",
   "nbconvert_exporter": "python",
   "pygments_lexer": "ipython3",
   "version": "3.7.7"
  }
 },
 "nbformat": 4,
 "nbformat_minor": 4
}

{
 "cells": [
  {
   "cell_type": "markdown",
   "metadata": {},
   "source": [
    "# Writing drivers"
   ]
  },
  {
   "cell_type": "markdown",
   "metadata": {},
   "source": [
    "In this tutorial I will guide you through the process of writing an instrument driver in QCoDeS from scratch. For the sake of simplicity I will go through the process of writing a driver which already exists in QCoDeS and let you to compare mine to the existing one, but the method I am going to show you is roughly applying to most of the drivers you will find yourself to write probably."
   ]
  },
  {
   "cell_type": "markdown",
   "metadata": {},
   "source": [
    "## Before you start"
   ]
  },
  {
   "cell_type": "markdown",
   "metadata": {},
   "source": [
    "Important note: QCoDeS is an open source project and as such there are two things to consider when implementing drivers.\n",
    "1. Do not reinvent the wheel: What I mean by this is before you start to put the effort in writing a driver have a look if there is some contribution for a driver already out in the web and consider investing the time you planned on implementing the driver into helping someone else who already wrote it in debugging/ documenting/ extending their contribution.\n",
    "2. Share: If you put the effort into writing a driver (if possible) share it on github. There are dedicated places where the QCoDeS community is sharing their drivers (chapter below) and there is no reason not to do it: Sharing drivers helps the community and also gives you a motivation to keep your code clean and documented."
   ]
  },
  {
   "cell_type": "markdown",
   "metadata": {},
   "source": [
    "## What if there is nothing out there?"
   ]
  },
  {
   "cell_type": "markdown",
   "metadata": {},
   "source": [
    "You may find yourself in the situation where you have an instrument that is not available commerically or you are using an instrument that noone ales is using anymore or not yet and in these cases you will of course have to write your own driver. In this section I will explain how I do this:\n"
   ]
  },
  {
   "cell_type": "markdown",
   "metadata": {},
   "source": [
    "1. Find the manual: First of all you will need the manual of your partiular device. Usually you will find a programmers guide at the end. This is just an example of such a guide in the case of the Keithley 2400 (download link in the sources below). It is important that the instrument communicates via text messages, otherwise you may want to go visit the QCoDeS documentation (link below)\n",
    "2. Create a new driver file in ```Qcodes/qcodes/instrument_drivers/YourInstrumentManufacturer/Instrument.py```\n",
    "3. Copy the main body \n",
    "\n",
    "```python\n",
    "from qcodes import VisaInstrument\n",
    "from qcodes.utils.validators import Strings, Enum\n",
    "from qcodes.utils.helpers import create_on_off_val_mapping\n",
    "\n",
    "\n",
    "class InstrumentNameHere(VisaInstrument):\n",
    "    \"\"\"\n",
    "    Docstring about the instrument goes here.\n",
    "    \"\"\"\n",
    "    def __init__(self, name, address, **kwargs):\n",
    "        super().__init__(name, address, terminator='\\n', **kwargs)#change to IP if necessary\n",
    "\n",
    "        self.add_parameter('paramname',\n",
    "                           get_cmd='get_command',\n",
    "                           get_parser=float, #Make sure get and set fromat match\n",
    "                           set_cmd='set_command {:f}',\n",
    "                           label='Label for the parameter',\n",
    "                           unit='V')\n",
    "        self.connect_message()\n",
    "```\n",
    "Note: There are a lot more attributes available for a parameter in a driver, these are the most basics and from my point of view the most commonly used ones, but if you need more you may find something useful in the documentation.\n",
    "4. Start adding parameters you find in the manual, this is the main job in writing a driver\n",
    "\n",
    "An this is already it.\n"
   ]
  },
  {
   "cell_type": "markdown",
   "metadata": {},
   "source": [
    "## Creating a simulated instrument"
   ]
  },
  {
   "cell_type": "markdown",
   "metadata": {},
   "source": [
    "This is important for implementing devops mechinsms in the development of QCoDeS. I can't go too much into the details of this here, but just know that it is crucial to the method of implementation that is being used in QCoDeS and that it is not only a good style but rather necessary in order to keep the project up and running longterm. Here is how this is done:"
   ]
  },
  {
   "cell_type": "markdown",
   "metadata": {},
   "source": [
    "1. Create a .yaml file in the directory ```qcodes/instrument/sims/Instrument.yaml```\n",
    "\n",
    "```yaml\n",
    "spec: \"1.0\"\n",
    "devices:\n",
    "  Keithley:\n",
    "    eom:\n",
    "      GPIB INSTR:\n",
    "        q: \"\\n\" \n",
    "        r: \"\\n\"\n",
    "    error: ERROR\n",
    "    dialogues:\n",
    "      - q: \"*IDN?\"\n",
    "        r: \"Keithley Instruments Inc.\"\n",
    "\n",
    "\n",
    "resources:\n",
    "  GPIB::1::INSTR:\n",
    "    device: Keithley\n",
    "\n",
    "```\n",
    "\n",
    "\n",
    "2. Create a test file in the directory ```Qcodes/qcodes/tests/drivers/test_Instrument.py```\n",
    "\n",
    "```python\n",
    "import pytest\n",
    "from qcodes.instrument_drivers.Keithley.Instrument import Instrument\n",
    "import qcodes.instrument.sims as sims\n",
    "visalib = sims.__file__.replace('__init__.py', 'Instrument.yaml@sim')\n",
    "\n",
    "\n",
    "@pytest.fixture(scope='function')\n",
    "def driver():\n",
    "    keith_sim = Instrument('keith_sim',\n",
    "                              address='GPIB::1::INSTR',\n",
    "                              visalib=visalib)\n",
    "    yield keith_sim\n",
    "    keith_sim.close()\n",
    "\n",
    "\n",
    "def test_init(driver):\n",
    "    idn_dict = driver.IDN()\n",
    "    assert idn_dict['vendor'] == 'Keithley Instruments Inc.'\n",
    "\n",
    "```\n",
    "3. Run the test ```pytest test_Instrument.py```"
   ]
  },
  {
   "cell_type": "markdown",
   "metadata": {},
   "source": [
    "## Where to share/search for drivers"
   ]
  },
  {
   "cell_type": "markdown",
   "metadata": {},
   "source": [
    "According to the official QCoDeS documentation not all the drivers get pushed into the main branch directly/ are supported. There is however an additional repository where the drivers are being collected: https://github.com/QCoDeS/Qcodes_contrib_drivers"
   ]
  },
  {
   "cell_type": "markdown",
   "metadata": {},
   "source": [
    "## Soruces"
   ]
  },
  {
   "cell_type": "markdown",
   "metadata": {},
   "source": [
    "- Documentation on how to write drivers: https://qcodes.github.io/Qcodes/examples/writing_drivers/Creating-Instrument-Drivers.html\n",
    "- Driver style guide: https://sphinxcontrib-napoleon.readthedocs.io/en/latest/example_google.html\n",
    "- Documentation on simulated instruments: https://qcodes.github.io/Qcodes/examples/writing_drivers/Creating-Simulated-PyVISA-Instruments.html\n",
    "- Keithley 2400 Manual download link: https://download.tek.com/manual/2400S-900-01_K-Sep2011_User.pdf\n",
    "- The keithley 2400 driver: https://github.com/QCoDeS/Qcodes/blob/master/qcodes/instrument_drivers/tektronix/Keithley_2400.py\n",
    "- Documentation on how to use drivers: http://qcodes.github.io/Qcodes/examples/index.html#drivers"
   ]
  }
 ],
 "metadata": {
  "kernelspec": {
   "display_name": "Python 3",
   "language": "python",
   "name": "python3"
  },
  "language_info": {
   "codemirror_mode": {
    "name": "ipython",
    "version": 3
   },
   "file_extension": ".py",
   "mimetype": "text/x-python",
   "name": "python",
   "nbconvert_exporter": "python",
   "pygments_lexer": "ipython3",
   "version": "3.7.7"
  }
 },
 "nbformat": 4,
 "nbformat_minor": 4
}

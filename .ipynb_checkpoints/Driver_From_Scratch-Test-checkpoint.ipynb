{
 "cells": [
  {
   "cell_type": "markdown",
   "metadata": {},
   "source": [
    "# Writing drivers"
   ]
  },
  {
   "cell_type": "markdown",
   "metadata": {},
   "source": [
    "In this tutorial I will guide you through the process of writing an instrument driver in QCoDeS from scratch. For the sake of simplicity I will go through the process of writing a driver which already exists in QCoDeS and compare mine to the existing one, but the method I am going to show you is roughly applying to most of the drivers you will find yourself to write in the average lab instrument set"
   ]
  },
  {
   "cell_type": "markdown",
   "metadata": {},
   "source": [
    "Important note: QCoDeS is an open source project and as such there are two things to consider when implementing drivers.\n",
    "1. Do not reinvent the wheel: What I mean by this is befor you start to put the effort in writing a driver have a look if there is some contribution for a driver already out in the web and consider investing the time you planned for implementing the driver into helping someone else who already wrote it in debugging/ documenting/ extending their contribution.\n",
    "2. Share: If you put the effort into writing a driver (if possible) share it on github. There are dedicated places where the QCoDeS community is sharing their drivers and there is no reason not to do it, in contrast sharing drivers helps the community and also gives you a motivation to keep your code clean and documented."
   ]
  },
  {
   "cell_type": "markdown",
   "metadata": {},
   "source": [
    "## Where to share/search for drivers"
   ]
  },
  {
   "cell_type": "markdown",
   "metadata": {},
   "source": [
    "According to the official QCoDeS documentation not all the drivers get pushed into the main branch directly. There is however an additional repository where the drivers are being collected:"
   ]
  },
  {
   "cell_type": "code",
   "execution_count": null,
   "metadata": {},
   "outputs": [],
   "source": []
  }
 ],
 "metadata": {
  "kernelspec": {
   "display_name": "Python 3",
   "language": "python",
   "name": "python3"
  },
  "language_info": {
   "codemirror_mode": {
    "name": "ipython",
    "version": 3
   },
   "file_extension": ".py",
   "mimetype": "text/x-python",
   "name": "python",
   "nbconvert_exporter": "python",
   "pygments_lexer": "ipython3",
   "version": "3.7.7"
  }
 },
 "nbformat": 4,
 "nbformat_minor": 4
}

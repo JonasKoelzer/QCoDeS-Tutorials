{
 "cells": [
  {
   "cell_type": "markdown",
   "metadata": {},
   "source": [
    "# Station configuration"
   ]
  },
  {
   "cell_type": "markdown",
   "metadata": {},
   "source": [
    "## Setting up a station manually"
   ]
  },
  {
   "cell_type": "markdown",
   "metadata": {},
   "source": [
    "In QCoDeS you can quickly set up your experiment using stations and YAML files. In this tutorial you will learn how, but before we come to this, you will learn what a station is, why you should use it and how to define a it the good old manual way. This goes by first importing the necessary components and defining your parameters:"
   ]
  },
  {
   "cell_type": "code",
   "execution_count": 1,
   "metadata": {},
   "outputs": [],
   "source": [
    "import qcodes as qc\n",
    "from qcodes import Station\n",
    "from qcodes.tests.instrument_mocks import DummyInstrument\n",
    "from qcodes.instrument.parameter import Parameter\n",
    "from qcodes.instrument.specialized_parameters import ElapsedTimeParameter\n",
    "\n",
    "src1 = DummyInstrument(name='src1', gates=['v1', 'v2'])\n",
    "src2 = DummyInstrument(name='src2', gates=['v3', 'v4'])\n",
    "\n",
    "t = ElapsedTimeParameter('t')\n",
    "V_appl_1 = Parameter('V_appl1', label='V_appl', unit='V', get_cmd=src1.v1.get, set_cmd=src1.v1.set)\n",
    "V_appl_2 = Parameter('V_appl2', label='V_appl', unit='V', get_cmd=src2.v3.get, set_cmd=src2.v4.set)\n",
    "I_meas = Parameter('I', label='I_meas', unit='A', get_cmd=lambda: float((src1.v1()+src2.v3())/1000))"
   ]
  },
  {
   "cell_type": "markdown",
   "metadata": {},
   "source": [
    "Next we create a station and import the the parameters and instruments into it. This way we can keep track of all our experimental parameters and the instruments we use in the particular experiment. This keeps the workspace clean and will make the understand of the dataset later on much easier. In this example we add an instrument and a parameter and later on confrim that the components are contained in the station:"
   ]
  },
  {
   "cell_type": "code",
   "execution_count": 2,
   "metadata": {},
   "outputs": [
    {
     "name": "stdout",
     "output_type": "stream",
     "text": [
      "Station after initialization: \n",
      "{'I': <qcodes.instrument.parameter.Parameter: I at 4715995664>}\n",
      "Added components to station: \n",
      "{'I': <qcodes.instrument.parameter.Parameter: I at 4715995664>, 't': <qcodes.instrument.specialized_parameters.ElapsedTimeParameter: t at 4715965072>, 'src1': <DummyInstrument: src1>}\n",
      "Removed the I_meas component from the station: \n",
      "{'t': <qcodes.instrument.specialized_parameters.ElapsedTimeParameter: t at 4715965072>, 'src1': <DummyInstrument: src1>}\n"
     ]
    }
   ],
   "source": [
    "station = Station(I_meas)#Initializing a station with the I_meas parameter\n",
    "print('Station after initialization: ')\n",
    "print(station.components)\n",
    "station.add_component(t) #example of adding a parameter\n",
    "station.add_component(src1) #exmaple of adding an instrument\n",
    "print('Added components to station: ')\n",
    "print(station.components)\n",
    "station.remove_component('I') #example of adding a parameter\n",
    "print('Removed the I_meas component from the station: ')\n",
    "print(station.components)"
   ]
  },
  {
   "cell_type": "markdown",
   "metadata": {},
   "source": [
    "This enables us now to access the parameters via the station, which will come in handy later on, when we define all the parameters via the YAML file. Here is an example of how to read the elaspsed time parameter via the station:"
   ]
  },
  {
   "cell_type": "code",
   "execution_count": 3,
   "metadata": {},
   "outputs": [
    {
     "data": {
      "text/plain": [
       "0.289901545"
      ]
     },
     "execution_count": 3,
     "metadata": {},
     "output_type": "execute_result"
    }
   ],
   "source": [
    "station.t()"
   ]
  },
  {
   "cell_type": "markdown",
   "metadata": {},
   "source": [
    "## Creating snapshots of a station"
   ]
  },
  {
   "cell_type": "markdown",
   "metadata": {},
   "source": [
    "In order to store all the relevant metadata for your experiment the snapshot function is used. The snapshot produces a json type dictionary file wich can be navigate through like a python dictionary. Here is an example of how easy it is to create a snapshot:"
   ]
  },
  {
   "cell_type": "code",
   "execution_count": 4,
   "metadata": {},
   "outputs": [
    {
     "data": {
      "text/plain": [
       "{'instruments': {'src1': {'functions': {},\n",
       "   'submodules': {},\n",
       "   '__class__': 'qcodes.tests.instrument_mocks.DummyInstrument',\n",
       "   'parameters': {'IDN': {'value': {'vendor': None,\n",
       "      'model': 'src1',\n",
       "      'serial': None,\n",
       "      'firmware': None},\n",
       "     'raw_value': {'vendor': None,\n",
       "      'model': 'src1',\n",
       "      'serial': None,\n",
       "      'firmware': None},\n",
       "     'ts': '2020-06-23 15:13:13',\n",
       "     '__class__': 'qcodes.instrument.parameter.Parameter',\n",
       "     'full_name': 'src1_IDN',\n",
       "     'instrument': 'qcodes.tests.instrument_mocks.DummyInstrument',\n",
       "     'instrument_name': 'src1',\n",
       "     'vals': '<Anything>',\n",
       "     'label': 'IDN',\n",
       "     'post_delay': 0,\n",
       "     'name': 'IDN',\n",
       "     'inter_delay': 0,\n",
       "     'unit': ''},\n",
       "    'v1': {'value': 0,\n",
       "     'raw_value': 0,\n",
       "     'ts': '2020-06-23 15:13:13',\n",
       "     '__class__': 'qcodes.instrument.parameter.Parameter',\n",
       "     'full_name': 'src1_v1',\n",
       "     'instrument': 'qcodes.tests.instrument_mocks.DummyInstrument',\n",
       "     'instrument_name': 'src1',\n",
       "     'vals': '<Numbers -800<=v<=400>',\n",
       "     'label': 'Gate v1',\n",
       "     'post_delay': 0,\n",
       "     'name': 'v1',\n",
       "     'inter_delay': 0,\n",
       "     'unit': 'V'},\n",
       "    'v2': {'value': 0,\n",
       "     'raw_value': 0,\n",
       "     'ts': '2020-06-23 15:13:13',\n",
       "     '__class__': 'qcodes.instrument.parameter.Parameter',\n",
       "     'full_name': 'src1_v2',\n",
       "     'instrument': 'qcodes.tests.instrument_mocks.DummyInstrument',\n",
       "     'instrument_name': 'src1',\n",
       "     'vals': '<Numbers -800<=v<=400>',\n",
       "     'label': 'Gate v2',\n",
       "     'post_delay': 0,\n",
       "     'name': 'v2',\n",
       "     'inter_delay': 0,\n",
       "     'unit': 'V'}},\n",
       "   'name': 'src1'}},\n",
       " 'parameters': {'t': {'value': 0.289901545,\n",
       "   'raw_value': 0.289901545,\n",
       "   'ts': '2020-06-23 15:13:13',\n",
       "   '__class__': 'qcodes.instrument.specialized_parameters.ElapsedTimeParameter',\n",
       "   'full_name': 't',\n",
       "   'label': 'Elapsed time',\n",
       "   'post_delay': 0,\n",
       "   'name': 't',\n",
       "   'inter_delay': 0,\n",
       "   'unit': 's'}},\n",
       " 'components': {},\n",
       " 'config': None,\n",
       " 'default_measurement': []}"
      ]
     },
     "execution_count": 4,
     "metadata": {},
     "output_type": "execute_result"
    }
   ],
   "source": [
    "station.snapshot()"
   ]
  },
  {
   "cell_type": "markdown",
   "metadata": {},
   "source": [
    "Since this is pretty long and not usefull for a quick check before the measurement (or during a measurement), there is a function that produces a readble shnapshot:"
   ]
  },
  {
   "cell_type": "code",
   "execution_count": 5,
   "metadata": {},
   "outputs": [
    {
     "name": "stdout",
     "output_type": "stream",
     "text": [
      "src1:\n",
      "\tparameter value\n",
      "--------------------------------------------------------------------------------\n",
      "IDN :\t{'vendor': None, 'model': 'src1', 'serial': None, 'firmware': None} \n",
      "v1  :\t0 (V)\n",
      "v2  :\t0 (V)\n"
     ]
    }
   ],
   "source": [
    "station.src1.print_readable_snapshot()"
   ]
  },
  {
   "cell_type": "markdown",
   "metadata": {},
   "source": [
    "# YAML file station configuration"
   ]
  },
  {
   "cell_type": "markdown",
   "metadata": {},
   "source": [
    "Now we have to transform this into a YAML file and then initialize the station by such a file. But the YAML file is more than just a helper for intialization. You can also use it in order to extend the parameter set, change labels and set limits. Here is just a brief example for an initilaization which we will run in just a second, but there is more in the official QCoDeS documentation:"
   ]
  },
  {
   "cell_type": "markdown",
   "metadata": {},
   "source": [
    "## Example YAML file"
   ]
  },
  {
   "cell_type": "markdown",
   "metadata": {},
   "source": [
    "Here is an example of what a YAML file's content looks like:\n",
    "```\n",
    "instruments: \n",
    "    src3: \n",
    "        type: qcodes.tests.instrument_mocks.DummyInstrument\n",
    "        init:\n",
    "            gates: {v5, v6}\n",
    "        enable_forced_reconnect: true\n",
    "        parameters:\n",
    "            v5:\n",
    "                label: Gate 5\n",
    "                unit: V\n",
    "                initial_value: 0\n",
    "                monitor: true\n",
    "            v6: {label: Gate 6 ,unit: V ,initial_value: 0,monitor: true}\n",
    "\n",
    "```"
   ]
  },
  {
   "cell_type": "markdown",
   "metadata": {},
   "source": [
    "This file is stored as init.yaml in the working directory and in the next step we will use this in order to initialize a new station:"
   ]
  },
  {
   "cell_type": "markdown",
   "metadata": {},
   "source": [
    "## Initializing a station from YAML"
   ]
  },
  {
   "cell_type": "markdown",
   "metadata": {},
   "source": [
    "It is as easy as that:"
   ]
  },
  {
   "cell_type": "code",
   "execution_count": 6,
   "metadata": {},
   "outputs": [],
   "source": [
    "station = Station(config_file='init.yaml')"
   ]
  },
  {
   "cell_type": "markdown",
   "metadata": {},
   "source": [
    "How do we get the instrument?"
   ]
  },
  {
   "cell_type": "code",
   "execution_count": 7,
   "metadata": {},
   "outputs": [],
   "source": [
    "loaded_src3 = station.load_instrument('src3')\n",
    "#or instead just\n",
    "loaded_src3 = station.load_src3()"
   ]
  },
  {
   "cell_type": "markdown",
   "metadata": {},
   "source": [
    "The loaded instrument has been initialized with v5=0V, we can check this by:"
   ]
  },
  {
   "cell_type": "code",
   "execution_count": 8,
   "metadata": {},
   "outputs": [
    {
     "data": {
      "text/plain": [
       "0"
      ]
     },
     "execution_count": 8,
     "metadata": {},
     "output_type": "execute_result"
    }
   ],
   "source": [
    "loaded_src3.v5()"
   ]
  },
  {
   "cell_type": "markdown",
   "metadata": {},
   "source": [
    "Note: It is important that this initialization comes with a bit of a caveat, which is that the real instruments have to be closed later on:"
   ]
  },
  {
   "cell_type": "code",
   "execution_count": 9,
   "metadata": {},
   "outputs": [
    {
     "ename": "AttributeError",
     "evalue": "'DummyInstrument' object and its delegates have no attribute 'close_and_remove_instrument'",
     "output_type": "error",
     "traceback": [
      "\u001b[0;31m---------------------------------------------------------------------------\u001b[0m",
      "\u001b[0;31mAttributeError\u001b[0m                            Traceback (most recent call last)",
      "\u001b[0;32m<ipython-input-9-2931df755d5c>\u001b[0m in \u001b[0;36m<module>\u001b[0;34m\u001b[0m\n\u001b[0;32m----> 1\u001b[0;31m \u001b[0mloaded_src3\u001b[0m\u001b[0;34m.\u001b[0m\u001b[0mclose_and_remove_instrument\u001b[0m\u001b[0;34m(\u001b[0m\u001b[0;34m)\u001b[0m\u001b[0;34m\u001b[0m\u001b[0;34m\u001b[0m\u001b[0m\n\u001b[0m",
      "\u001b[0;32m~/anaconda/envs/qcodes/lib/python3.7/site-packages/qcodes/utils/helpers.py\u001b[0m in \u001b[0;36m__getattr__\u001b[0;34m(self, key)\u001b[0m\n\u001b[1;32m    453\u001b[0m         raise AttributeError(\n\u001b[1;32m    454\u001b[0m             \"'{}' object and its delegates have no attribute '{}'\".format(\n\u001b[0;32m--> 455\u001b[0;31m                 self.__class__.__name__, key))\n\u001b[0m\u001b[1;32m    456\u001b[0m \u001b[0;34m\u001b[0m\u001b[0m\n\u001b[1;32m    457\u001b[0m     \u001b[0;32mdef\u001b[0m \u001b[0m__dir__\u001b[0m\u001b[0;34m(\u001b[0m\u001b[0mself\u001b[0m\u001b[0;34m)\u001b[0m\u001b[0;34m:\u001b[0m\u001b[0;34m\u001b[0m\u001b[0;34m\u001b[0m\u001b[0m\n",
      "\u001b[0;31mAttributeError\u001b[0m: 'DummyInstrument' object and its delegates have no attribute 'close_and_remove_instrument'"
     ]
    }
   ],
   "source": [
    "loaded_src3.close_and_remove_instrument()"
   ]
  },
  {
   "cell_type": "markdown",
   "metadata": {},
   "source": [
    "Having a close look at this YAML file from above, we see that it has some similarity with the snapshot we printed above, so the question arises, if it is possible to create such a YAML file from an existing snapshot."
   ]
  },
  {
   "cell_type": "markdown",
   "metadata": {},
   "source": [
    "## Creating YAML a bit easier"
   ]
  },
  {
   "cell_type": "markdown",
   "metadata": {},
   "source": [
    "YAML in fact is a superset of JSON: How to turn JSON into YAML? Go and visit https://www.json2yaml.com"
   ]
  },
  {
   "cell_type": "markdown",
   "metadata": {},
   "source": [
    "YAML extensions by RedHat https://marketplace.visualstudio.com/items?itemName=redhat.vscode-yaml"
   ]
  },
  {
   "cell_type": "markdown",
   "metadata": {},
   "source": [
    "## Store the snapshot of the station in the database"
   ]
  },
  {
   "cell_type": "markdown",
   "metadata": {},
   "source": [
    "The metadata from the snapshot asociated with the station can simply be stored with the data by initializing the Measurement object for the database with the station. Here is how you save it next to the measurements data (this happens at the beginning of the measurement):"
   ]
  },
  {
   "cell_type": "code",
   "execution_count": 10,
   "metadata": {},
   "outputs": [
    {
     "data": {
      "text/plain": [
       "<qcodes.dataset.measurements.Measurement at 0x119268c90>"
      ]
     },
     "execution_count": 10,
     "metadata": {},
     "output_type": "execute_result"
    }
   ],
   "source": [
    "from qcodes import initialise_database, load_or_create_experiment\n",
    "from qcodes.dataset.measurements import Measurement\n",
    "\n",
    "exp_name = 'DC-IV-Sweep'\n",
    "sample_name = 'Test-Resistor'\n",
    "\n",
    "qc.config[\"core\"][\"db_location\"]='./experiments.db'\n",
    "initialise_database()\n",
    "exp = load_or_create_experiment(exp_name,sample_name)\n",
    "\n",
    "measurement = Measurement(exp, station)\n",
    "\n",
    "measurement.register_parameter(loaded_src3.v5)\n",
    "measurement.register_parameter(loaded_src3.v6,setpoints=[loaded_src3.v5])"
   ]
  },
  {
   "cell_type": "markdown",
   "metadata": {},
   "source": [
    "Let's run the experiment and feed the database:"
   ]
  },
  {
   "cell_type": "code",
   "execution_count": 11,
   "metadata": {},
   "outputs": [
    {
     "name": "stdout",
     "output_type": "stream",
     "text": [
      "Starting experimental run with id: 9. \n"
     ]
    }
   ],
   "source": [
    "with measurement.run() as data_saver:\n",
    "    for i in range(10):\n",
    "        input_value = i\n",
    "        loaded_src3.v5.set(input_value)\n",
    "\n",
    "        loaded_src3.v6(i*100e-3)  # assuming that the instrument measured this value on the output\n",
    "\n",
    "        data_saver.add_result((loaded_src3.v5, input_value),\n",
    "                              (loaded_src3.v6, loaded_src3.v6()))\n",
    "\n",
    "# For convenience, let's work with the dataset object directly\n",
    "dataset = data_saver.dataset"
   ]
  },
  {
   "cell_type": "markdown",
   "metadata": {},
   "source": [
    "Now we can open the snapshot that is stored with the dataset by using:"
   ]
  },
  {
   "cell_type": "code",
   "execution_count": 12,
   "metadata": {},
   "outputs": [
    {
     "data": {
      "text/plain": [
       "{'station': {'instruments': {'src3': {'functions': {},\n",
       "    'submodules': {},\n",
       "    '__class__': 'qcodes.tests.instrument_mocks.DummyInstrument',\n",
       "    'parameters': {'IDN': {'value': {'vendor': None,\n",
       "       'model': 'src3',\n",
       "       'serial': None,\n",
       "       'firmware': None},\n",
       "      'raw_value': {'vendor': None,\n",
       "       'model': 'src3',\n",
       "       'serial': None,\n",
       "       'firmware': None},\n",
       "      'ts': '2020-06-23 15:13:16',\n",
       "      '__class__': 'qcodes.instrument.parameter.Parameter',\n",
       "      'full_name': 'src3_IDN',\n",
       "      'instrument': 'qcodes.tests.instrument_mocks.DummyInstrument',\n",
       "      'instrument_name': 'src3',\n",
       "      'vals': '<Anything>',\n",
       "      'label': 'IDN',\n",
       "      'post_delay': 0,\n",
       "      'name': 'IDN',\n",
       "      'inter_delay': 0,\n",
       "      'unit': ''},\n",
       "     'v5': {'value': 0,\n",
       "      'raw_value': 0,\n",
       "      'ts': '2020-06-23 15:13:17',\n",
       "      '__class__': 'qcodes.instrument.parameter.Parameter',\n",
       "      'full_name': 'src3_v5',\n",
       "      'instrument': 'qcodes.tests.instrument_mocks.DummyInstrument',\n",
       "      'instrument_name': 'src3',\n",
       "      'vals': '<Numbers -800<=v<=400>',\n",
       "      'label': 'Gate 5',\n",
       "      'post_delay': 0,\n",
       "      'name': 'v5',\n",
       "      'inter_delay': 0,\n",
       "      'unit': 'V'},\n",
       "     'v6': {'value': 0,\n",
       "      'raw_value': 0,\n",
       "      'ts': '2020-06-23 15:13:16',\n",
       "      '__class__': 'qcodes.instrument.parameter.Parameter',\n",
       "      'full_name': 'src3_v6',\n",
       "      'instrument': 'qcodes.tests.instrument_mocks.DummyInstrument',\n",
       "      'instrument_name': 'src3',\n",
       "      'vals': '<Numbers -800<=v<=400>',\n",
       "      'label': 'Gate 6',\n",
       "      'post_delay': 0,\n",
       "      'name': 'v6',\n",
       "      'inter_delay': 0,\n",
       "      'unit': 'V'}},\n",
       "    'name': 'src3'}},\n",
       "  'parameters': {},\n",
       "  'components': {},\n",
       "  'config': {'instruments': {'src3': {'type': 'qcodes.tests.instrument_mocks.DummyInstrument',\n",
       "     'init': {'gates': {'v5': None, 'v6': None}},\n",
       "     'enable_forced_reconnect': True,\n",
       "     'parameters': {'v5': {'label': 'Gate 5',\n",
       "       'unit': 'V',\n",
       "       'initial_value': 0,\n",
       "       'monitor': True},\n",
       "      'v6': {'label': 'Gate 6',\n",
       "       'unit': 'V',\n",
       "       'initial_value': 0,\n",
       "       'monitor': True}}}}},\n",
       "  'default_measurement': []}}"
      ]
     },
     "execution_count": 12,
     "metadata": {},
     "output_type": "execute_result"
    }
   ],
   "source": [
    "dataset.snapshot"
   ]
  },
  {
   "cell_type": "markdown",
   "metadata": {},
   "source": [
    "## Comparing two different Snapshots"
   ]
  },
  {
   "cell_type": "markdown",
   "metadata": {},
   "source": [
    "Sometimes you have run several seemlingly identical measurements and you forgot what was the exact difference between them and want to look it up quickly. This is where this quick function comes in handy:"
   ]
  },
  {
   "cell_type": "code",
   "execution_count": 13,
   "metadata": {},
   "outputs": [
    {
     "data": {
      "text/plain": [
       "{('src3', 'v5'): (0, 1)}"
      ]
     },
     "execution_count": 13,
     "metadata": {},
     "output_type": "execute_result"
    }
   ],
   "source": [
    "from qcodes.utils.metadata import diff_param_values\n",
    "from qcodes import load_by_id\n",
    "\n",
    "snapshot1 = dataset.snapshot\n",
    "snapshot2 = load_by_id(8).snapshot # in Run 8 I changed the v5 init voltage to 1\n",
    "\n",
    "diff_param_values(snapshot1, snapshot2).changed"
   ]
  },
  {
   "cell_type": "markdown",
   "metadata": {},
   "source": [
    "## Sources"
   ]
  },
  {
   "cell_type": "markdown",
   "metadata": {},
   "source": [
    "Documentation: \"Station\" (https://qcodes.github.io/Qcodes/examples/Station.html)\n",
    "\n",
    "\n",
    "Documentation: \"Working with Snapshots\" (https://qcodes.github.io/Qcodes/examples/DataSet/Working%20with%20snapshots.html)"
   ]
  }
 ],
 "metadata": {
  "kernelspec": {
   "display_name": "Python 3",
   "language": "python",
   "name": "python3"
  },
  "language_info": {
   "codemirror_mode": {
    "name": "ipython",
    "version": 3
   },
   "file_extension": ".py",
   "mimetype": "text/x-python",
   "name": "python",
   "nbconvert_exporter": "python",
   "pygments_lexer": "ipython3",
   "version": "3.7.7"
  }
 },
 "nbformat": 4,
 "nbformat_minor": 4
}

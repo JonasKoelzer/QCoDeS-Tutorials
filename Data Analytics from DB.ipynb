{
 "cells": [
  {
   "cell_type": "markdown",
   "metadata": {},
   "source": [
    "# Analytics from the Database"
   ]
  },
  {
   "cell_type": "markdown",
   "metadata": {},
   "source": [
    "This tutorial is just ment to give you an example of how to handle the data stored in the qcodes data base (DB). This goes from navigating through the DB to extracting data, plotting it and storing it to different file formats and locations."
   ]
  },
  {
   "cell_type": "markdown",
   "metadata": {},
   "source": [
    "## Initializing the DB"
   ]
  },
  {
   "cell_type": "markdown",
   "metadata": {},
   "source": [
    "This assumes that we want to use the QCoDeS package itself to read data from the DB. Since the DB is set up as a standardised sqlite DB, one could also think of using more dedicated DB-Tools and there is a great variety of these out in the web, but for the sake of simplicity let's use QCoDeS for now. The first thing that we have to do is obviously to initilaize our DB after importing qcodes:"
   ]
  },
  {
   "cell_type": "code",
   "execution_count": 1,
   "metadata": {},
   "outputs": [],
   "source": [
    "import qcodes as qc \n",
    "from qcodes import initialise_database, load_or_create_experiment,load_by_run_spec,load_by_id\n",
    "from qcodes.data.location import FormatLocation\n",
    "from qcodes.dataset.legacy_import import import_dat_file\n",
    "from qcodes.data.io import DiskIO\n",
    "\n",
    "exp_name = 'DC-IV-Sweep'\n",
    "sample_name = 'Test-Resistor'\n",
    "\n",
    "qc.config[\"core\"][\"db_location\"]='./experiments.db'\n",
    "initialise_database()"
   ]
  },
  {
   "cell_type": "markdown",
   "metadata": {},
   "source": [
    "Note that here I am working with a relative path for the DB configuration. This is helpful when using this github repository on different machines, but may cause a problem once you start copying the analytics script to a different location. A working import is signalized by the absence of an error message. Next we get the content of our DB and we just quickly plot the experiments contained:"
   ]
  },
  {
   "cell_type": "markdown",
   "metadata": {},
   "source": [
    "## Finding Experiments"
   ]
  },
  {
   "cell_type": "code",
   "execution_count": 2,
   "metadata": {},
   "outputs": [
    {
     "name": "stdout",
     "output_type": "stream",
     "text": [
      "name: DC-IV-Sweep, sample: Test-Resistor\n",
      "[results #1@/Users/jonaskolzer/Documents/Quantacademy/QCoDeS Series/QCoDeS-Tutorials/experiments.db\n",
      "--------------------------------------------------------------------------------------------------\n",
      "V_set - numeric\n",
      "I - numeric\n",
      "V - numeric\n",
      "t - numeric, results #2@/Users/jonaskolzer/Documents/Quantacademy/QCoDeS Series/QCoDeS-Tutorials/experiments.db\n",
      "--------------------------------------------------------------------------------------------------\n",
      "V_set - numeric\n",
      "I - numeric\n",
      "V - numeric\n",
      "t - numeric, results #3@/Users/jonaskolzer/Documents/Quantacademy/QCoDeS Series/QCoDeS-Tutorials/experiments.db\n",
      "--------------------------------------------------------------------------------------------------\n",
      "src3_v5 - numeric\n",
      "src3_v6 - numeric, results #4@/Users/jonaskolzer/Documents/Quantacademy/QCoDeS Series/QCoDeS-Tutorials/experiments.db\n",
      "--------------------------------------------------------------------------------------------------\n",
      "src3_v5 - numeric\n",
      "src3_v6 - numeric, results #5@/Users/jonaskolzer/Documents/Quantacademy/QCoDeS Series/QCoDeS-Tutorials/experiments.db\n",
      "--------------------------------------------------------------------------------------------------\n",
      "src3_v5 - numeric\n",
      "src3_v6 - numeric, results #6@/Users/jonaskolzer/Documents/Quantacademy/QCoDeS Series/QCoDeS-Tutorials/experiments.db\n",
      "--------------------------------------------------------------------------------------------------\n",
      "src3_v5 - numeric\n",
      "src3_v6 - numeric, results #7@/Users/jonaskolzer/Documents/Quantacademy/QCoDeS Series/QCoDeS-Tutorials/experiments.db\n",
      "--------------------------------------------------------------------------------------------------\n",
      "src3_v5 - numeric\n",
      "src3_v6 - numeric, results #8@/Users/jonaskolzer/Documents/Quantacademy/QCoDeS Series/QCoDeS-Tutorials/experiments.db\n",
      "--------------------------------------------------------------------------------------------------\n",
      "src3_v5 - numeric\n",
      "src3_v6 - numeric, results #9@/Users/jonaskolzer/Documents/Quantacademy/QCoDeS Series/QCoDeS-Tutorials/experiments.db\n",
      "--------------------------------------------------------------------------------------------------\n",
      "src3_v5 - numeric\n",
      "src3_v6 - numeric, results #10@/Users/jonaskolzer/Documents/Quantacademy/QCoDeS Series/QCoDeS-Tutorials/experiments.db\n",
      "---------------------------------------------------------------------------------------------------\n",
      "src3_v5 - numeric\n",
      "src3_v6 - numeric]\n",
      "aaaaaaaa-0000-0000-0000-0172e13d05f9\n"
     ]
    }
   ],
   "source": [
    "experiments = qc.experiments()\n",
    "for exp in experiments:\n",
    "    print('name: '+exp.name+', sample: '+exp.sample_name)\n",
    "    #This prints the data sets included such as the number of the experiment (ID) that we will need:\n",
    "    print(exp.data_sets()) \n",
    "    print(exp.data_set(7).guid)"
   ]
  },
  {
   "cell_type": "markdown",
   "metadata": {},
   "source": [
    "## Analyse data from the DB"
   ]
  },
  {
   "cell_type": "markdown",
   "metadata": {},
   "source": [
    "Now that we have found the experiment we want to analyse and that we have the unqiue identifier, it is time to loop through the data and in this example perform a Fourier transform:"
   ]
  },
  {
   "cell_type": "code",
   "execution_count": 4,
   "metadata": {},
   "outputs": [
    {
     "data": {
      "image/png": "[encoded data removed]",
      "text/plain": [
       "<Figure size 432x288 with 1 Axes>"
      ]
     },
     "metadata": {
      "needs_background": "light"
     },
     "output_type": "display_data"
    }
   ],
   "source": [
    "%matplotlib inline \n",
    "import matplotlib\n",
    "import pandas as pd\n",
    "import numpy as np\n",
    "import matplotlib.pyplot as plt\n",
    "from scipy.fftpack import fft\n",
    "\n",
    "\n",
    "choosen_experiments = [1,2]\n",
    "start_index = 1\n",
    "end_index = 50\n",
    "\n",
    "\n",
    "for i in choosen_experiments:\n",
    "    dataset = load_by_id(i)\n",
    "    df = dataset.get_data_as_pandas_dataframe()\n",
    "    plt.plot(df[\"I\"][\"I\"].to_list()[start_index:end_index],df[\"V\"][\"V\"].to_list()[start_index:end_index],'o')\n",
    "\n",
    "axes = plt.gca()\n",
    "plt.grid(True)\n",
    "plt.ylabel('$V \\; (\\mathrm{V})$')\n",
    "plt.xlabel('$I \\;(\\mathrm{A})$')\n",
    "plt.savefig(\"./Two_datasets_in_one_plot.pdf\", bbox_inches='tight')"
   ]
  },
  {
   "cell_type": "markdown",
   "metadata": {},
   "source": [
    "## Extracting data form a database "
   ]
  },
  {
   "cell_type": "markdown",
   "metadata": {},
   "source": [
    "One problem that I ran across in the very beginning of working with QCoDeS was that it is not simply possible to \n",
    "have two jupyter notebook acessing the same database at the same time. Once one script is using the database it is blocked for all others. This brings me to two problems:\n",
    "\n",
    "1. How to store data from different setups?\n",
    "2. How to store data into a database using a measurement notebook and at the same time use a different notebook to perfrom data anaylsis on that very same dataset?\n",
    "\n",
    "\n",
    "The first porblem has been solved by giving every setup (or station if you want to) its own database which it can write to. The second problem can be solved by exporting the data into another database for analysis. In the beginng as a workaround we copied the database, but as more data is collected this is not so practiable anymore, so here is how you extract data into another database:"
   ]
  },
  {
   "cell_type": "code",
   "execution_count": 3,
   "metadata": {},
   "outputs": [
    {
     "name": "stdout",
     "output_type": "stream",
     "text": [
      "Upgrading database; v0 -> v1: : 0it [00:00, ?it/s]\n",
      "Upgrading database; v1 -> v2: 100%|██████████| 1/1 [00:00<00:00, 385.65it/s]\n",
      "Upgrading database; v2 -> v3: : 0it [00:00, ?it/s]\n",
      "Upgrading database; v3 -> v4: : 0it [00:00, ?it/s]\n",
      "Upgrading database; v4 -> v5: 100%|██████████| 1/1 [00:00<00:00, 409.00it/s]\n",
      "Upgrading database; v5 -> v6: : 0it [00:00, ?it/s]\n",
      "Upgrading database; v6 -> v7: 100%|██████████| 1/1 [00:00<00:00, 215.10it/s]\n",
      "Upgrading database; v7 -> v8: 100%|██████████| 1/1 [00:00<00:00, 110.64it/s]\n",
      "Upgrading database; v8 -> v9: 100%|██████████| 1/1 [00:00<00:00, 291.88it/s]\n"
     ]
    }
   ],
   "source": [
    "from qcodes.dataset.database_extract_runs import extract_runs_into_db\n",
    "\n",
    "extract_runs_into_db(qc.config[\"core\"][\"db_location\"], './analysis.db', 1,2,9)"
   ]
  },
  {
   "cell_type": "markdown",
   "metadata": {},
   "source": [
    "Lets have a look which data is in our new database:"
   ]
  },
  {
   "cell_type": "code",
   "execution_count": 14,
   "metadata": {},
   "outputs": [
    {
     "name": "stdout",
     "output_type": "stream",
     "text": [
      "name: DC-IV-Sweep, sample: Test-Resistor\n",
      "[results #1@/Users/jonaskolzer/Documents/Quantacademy/QCoDeS Series/QCoDeS-Tutorials/analysis.db\n",
      "-----------------------------------------------------------------------------------------------\n",
      "V_set - numeric\n",
      "I - numeric\n",
      "V - numeric\n",
      "t - numeric, results #2@/Users/jonaskolzer/Documents/Quantacademy/QCoDeS Series/QCoDeS-Tutorials/analysis.db\n",
      "-----------------------------------------------------------------------------------------------\n",
      "V_set - numeric\n",
      "I - numeric\n",
      "V - numeric\n",
      "t - numeric, results #3@/Users/jonaskolzer/Documents/Quantacademy/QCoDeS Series/QCoDeS-Tutorials/analysis.db\n",
      "-----------------------------------------------------------------------------------------------\n",
      "src3_v5 - numeric\n",
      "src3_v6 - numeric]\n",
      "The GUID iof experiment 3 is aaaaaaaa-0000-0000-0000-0172e14fbf59\n"
     ]
    }
   ],
   "source": [
    "qc.config[\"core\"][\"db_location\"]='./analysis.db'\n",
    "initialise_database()\n",
    "\n",
    "experiments = qc.experiments()\n",
    "for exp in experiments:\n",
    "    print('name: '+exp.name+', sample: '+exp.sample_name)\n",
    "    #This prints the data sets included such as the number of the experiment (ID) that we will need:\n",
    "    print(exp.data_sets())\n",
    "    \n",
    "#Using GUID for identification:\n",
    "print('The GUID iof experiment 3 is '+str(exp.data_set(3).guid))"
   ]
  },
  {
   "cell_type": "markdown",
   "metadata": {},
   "source": [
    "## Sources"
   ]
  },
  {
   "cell_type": "markdown",
   "metadata": {},
   "source": [
    "Link to the QCoDeS Documentation:\n",
    "https://qcodes.github.io/Qcodes/examples/DataSet/The-Experiment-Container.html\n",
    "\n",
    "\n",
    "Interesting in that context is also linking analysed data to the raw data: \n",
    "https://qcodes.github.io/Qcodes/examples/DataSet/Linking%20to%20parent%20datasets.html\n",
    "\n",
    "Extracting data from a database:\n",
    "https://qcodes.github.io/Qcodes/examples/DataSet/Extracting-runs-from-one-DB-file-to-another.html"
   ]
  }
 ],
 "metadata": {
  "kernelspec": {
   "display_name": "Python 3",
   "language": "python",
   "name": "python3"
  },
  "language_info": {
   "codemirror_mode": {
    "name": "ipython",
    "version": 3
   },
   "file_extension": ".py",
   "mimetype": "text/x-python",
   "name": "python",
   "nbconvert_exporter": "python",
   "pygments_lexer": "ipython3",
   "version": "3.7.7"
  }
 },
 "nbformat": 4,
 "nbformat_minor": 4
}

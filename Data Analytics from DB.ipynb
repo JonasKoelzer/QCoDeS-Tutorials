{
 "cells": [
  {
   "cell_type": "markdown",
   "metadata": {},
   "source": [
    "# Analytics from the Database"
   ]
  },
  {
   "cell_type": "markdown",
   "metadata": {},
   "source": [
    "This tutorial is just ment to give you an example of how to handle the data stored int the qcodes data base (DB). This goes from navigating through the DB to extracting data, plotting it and storing it to different file formats and locations."
   ]
  },
  {
   "cell_type": "markdown",
   "metadata": {},
   "source": [
    "## Initializing the DB"
   ]
  },
  {
   "cell_type": "markdown",
   "metadata": {},
   "source": [
    "This assumes that we want to use the QCoDeS package itself to read data from the DB. Since the DB is set up as a standardised sqlite DB, one could also think of using more didcated DB-Tools and there is a great variety of these out in the web, but for the sake of simplicity let's use QCoDeS for now. The first thing that we have to do is obviously to initilaize our DB after importing qcodes:"
   ]
  },
  {
   "cell_type": "code",
   "execution_count": 3,
   "metadata": {},
   "outputs": [],
   "source": [
    "import qcodes as qc \n",
    "from qcodes import initialise_database, load_or_create_experiment,load_by_run_spec,load_by_id\n",
    "from qcodes.data.location import FormatLocation\n",
    "from qcodes.dataset.legacy_import import import_dat_file\n",
    "from qcodes.data.io import DiskIO\n",
    "\n",
    "exp_name = 'DC-IV-Sweep'\n",
    "sample_name = 'Test-Resistor'\n",
    "\n",
    "qc.config[\"core\"][\"db_location\"]='./experiments.db'\n",
    "initialise_database()"
   ]
  },
  {
   "cell_type": "markdown",
   "metadata": {},
   "source": [
    "Note that here I am working with a relative path for the DB configuration. This is helpful when using this github repository on different machines, but may cause a problem once you start copying the analytics script to a different location. A workin import is signalizet by the absence of an error message. Next we get the content of our DB and we just quickly plot the experiment names:"
   ]
  },
  {
   "cell_type": "code",
   "execution_count": 5,
   "metadata": {},
   "outputs": [
    {
     "name": "stdout",
     "output_type": "stream",
     "text": [
      "name DC-IV-Sweep, sample: Test-Resistor\n",
      "[results #1@/Users/jonaskolzer/Documents/Quantacademy/QCoDeS Series/QCoDeS-Tutorials/experiments.db\n",
      "--------------------------------------------------------------------------------------------------\n",
      "V_set - numeric\n",
      "I - numeric\n",
      "V - numeric\n",
      "t - numeric, results #2@/Users/jonaskolzer/Documents/Quantacademy/QCoDeS Series/QCoDeS-Tutorials/experiments.db\n",
      "--------------------------------------------------------------------------------------------------\n",
      "V_set - numeric\n",
      "I - numeric\n",
      "V - numeric\n",
      "t - numeric, results #3@/Users/jonaskolzer/Documents/Quantacademy/QCoDeS Series/QCoDeS-Tutorials/experiments.db\n",
      "--------------------------------------------------------------------------------------------------\n",
      "src3_v5 - numeric\n",
      "src3_v6 - numeric, results #4@/Users/jonaskolzer/Documents/Quantacademy/QCoDeS Series/QCoDeS-Tutorials/experiments.db\n",
      "--------------------------------------------------------------------------------------------------\n",
      "src3_v5 - numeric\n",
      "src3_v6 - numeric, results #5@/Users/jonaskolzer/Documents/Quantacademy/QCoDeS Series/QCoDeS-Tutorials/experiments.db\n",
      "--------------------------------------------------------------------------------------------------\n",
      "src3_v5 - numeric\n",
      "src3_v6 - numeric, results #6@/Users/jonaskolzer/Documents/Quantacademy/QCoDeS Series/QCoDeS-Tutorials/experiments.db\n",
      "--------------------------------------------------------------------------------------------------\n",
      "src3_v5 - numeric\n",
      "src3_v6 - numeric]\n"
     ]
    }
   ],
   "source": [
    "content = qc.experiments()\n",
    "for exp in content:\n",
    "    print('name '+exp.name+', sample: '+exp.sample_name)\n",
    "    #This plots the data sets included such as the number of the experiment that we will need:\n",
    "    print(exp.data_sets()) "
   ]
  },
  {
   "cell_type": "markdown",
   "metadata": {},
   "source": [
    "## Analyse data from the DB"
   ]
  },
  {
   "cell_type": "markdown",
   "metadata": {},
   "source": [
    "Now that we have found the experiment we want to analyse and that we have the unqiue identifier, it is time to loop through the data and in this example perform a Fourier transform:"
   ]
  },
  {
   "cell_type": "code",
   "execution_count": 13,
   "metadata": {},
   "outputs": [
    {
     "data": {
      "image/png": "[encoded data removed]",
      "text/plain": [
       "<Figure size 432x288 with 1 Axes>"
      ]
     },
     "metadata": {
      "needs_background": "light"
     },
     "output_type": "display_data"
    }
   ],
   "source": [
    "import matplotlib.pyplot as plt\n",
    "import matplotlib\n",
    "%matplotlib inline  \n",
    "import pandas as pd\n",
    "import numpy as np\n",
    "from scipy.fftpack import fft\n",
    "\n",
    "\n",
    "ring_100nm = [1,2]\n",
    "start_index = 1\n",
    "end_index = 10\n",
    "\n",
    "yf_avg = np.array([0 for i in range(end_index-start_index)])\n",
    "\n",
    "for i in ring_100nm:\n",
    "    dataset = load_by_id(i)\n",
    "    df = dataset.get_data_as_pandas_dataframe()\n",
    "    N = len(df[\"V\"][\"V\"].to_list())\n",
    "    sample_spacing = np.mean(abs(np.diff(df[\"V\"][\"V\"].to_list())))\n",
    "    yf = fft(df[\"I\"][\"I\"].to_list()-np.min(df[\"I\"][\"I\"].to_list()))\n",
    "    xf = np.linspace(0.0, 1.0/(2.0*sample_spacing), N//2)\n",
    "    y_plot = 2.0/N * np.abs(yf[0:N//2])\n",
    "    yf_avg = yf_avg + np.array(y_plot[start_index:end_index])\n",
    "    #print(xf[start_index:end_index])\n",
    "    #plt.plot(xf[start_index:end_index],y_plot[start_index:end_index])\n",
    "    \n",
    "plt.plot(xf[start_index:end_index],yf_avg)\n",
    "axes = plt.gca()\n",
    "plt.grid(True)\n",
    "plt.ylabel('$A_{FFT\\,Amplitude} \\; (\\mathrm{a.u.})$')\n",
    "plt.xlabel('$B \\;(\\mathrm{1/T})$')\n",
    "plt.savefig(\"./FFT100nm_avg.pdf\", bbox_inches='tight')"
   ]
  }
 ],
 "metadata": {
  "kernelspec": {
   "display_name": "Python 3",
   "language": "python",
   "name": "python3"
  },
  "language_info": {
   "codemirror_mode": {
    "name": "ipython",
    "version": 3
   },
   "file_extension": ".py",
   "mimetype": "text/x-python",
   "name": "python",
   "nbconvert_exporter": "python",
   "pygments_lexer": "ipython3",
   "version": "3.7.7"
  }
 },
 "nbformat": 4,
 "nbformat_minor": 4
}
